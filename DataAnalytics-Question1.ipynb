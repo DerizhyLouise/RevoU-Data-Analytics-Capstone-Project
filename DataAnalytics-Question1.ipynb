{
  "nbformat": 4,
  "nbformat_minor": 0,
  "metadata": {
    "colab": {
      "provenance": [],
      "include_colab_link": true
    },
    "kernelspec": {
      "name": "python3",
      "display_name": "Python 3"
    },
    "language_info": {
      "name": "python"
    }
  },
  "cells": [
    {
      "cell_type": "markdown",
      "metadata": {
        "id": "view-in-github",
        "colab_type": "text"
      },
      "source": [
        "<a href=\"https://colab.research.google.com/github/DerizhyLouise/RevoU-Data-Analytics-Capstone-Project/blob/main/DataAnalytics-Question1.ipynb\" target=\"_parent\"><img src=\"https://colab.research.google.com/assets/colab-badge.svg\" alt=\"Open In Colab\"/></a>"
      ]
    },
    {
      "cell_type": "code",
      "execution_count": null,
      "metadata": {
        "colab": {
          "base_uri": "https://localhost:8080/"
        },
        "id": "KGXoqiAT0uF2",
        "outputId": "5fba6c12-8525-4f48-8371-1c64ba3db367"
      },
      "outputs": [
        {
          "output_type": "stream",
          "name": "stdout",
          "text": [
            "Drive already mounted at /content/drive; to attempt to forcibly remount, call drive.mount(\"/content/drive\", force_remount=True).\n"
          ]
        }
      ],
      "source": [
        "import pandas as pd\n",
        "import numpy as np\n",
        "import seaborn as sns\n",
        "import matplotlib.pyplot as plt\n",
        "from google.colab import drive\n",
        "\n",
        "drive.mount(\"/content/drive\")"
      ]
    },
    {
      "cell_type": "code",
      "source": [
        "%cd '/content/drive/MyDrive/RevoU - Capstone Project/Data Cleaning - Python'"
      ],
      "metadata": {
        "colab": {
          "base_uri": "https://localhost:8080/"
        },
        "id": "iuedl-Hi1Lkf",
        "outputId": "fddbb103-ae04-4dc8-ef43-abd7cfd28bdc"
      },
      "execution_count": null,
      "outputs": [
        {
          "output_type": "stream",
          "name": "stdout",
          "text": [
            "/content/drive/MyDrive/RevoU - Capstone Project/Data Cleaning - Python\n"
          ]
        }
      ]
    },
    {
      "cell_type": "code",
      "source": [
        "orderDf = pd.read_csv('orders.csv')\n",
        "custDf = pd.read_csv('customers.csv')\n",
        "salesDf = pd.read_csv('sales.csv')\n",
        "prodDf = pd.read_csv('products.csv')\n",
        "\n",
        "orderCustDf = pd.merge(orderDf, custDf, on='customer_id', how='inner')\n",
        "orderSalesDf = pd.merge(orderDf, salesDf, on='order_id', how='inner')\n",
        "orderSalesProdDf = pd.merge(orderSalesDf, prodDf, on='product_id', how='inner')"
      ],
      "metadata": {
        "id": "91M-2sG_1Ohl"
      },
      "execution_count": null,
      "outputs": []
    },
    {
      "cell_type": "code",
      "source": [
        "orderDf[\"order_date\"] = pd.to_datetime(orderDf[\"order_date\"])\n",
        "orderDf[\"delivery_date\"] = pd.to_datetime(orderDf[\"delivery_date\"])\n",
        "orderCustDf[\"order_date\"] = pd.to_datetime(orderCustDf[\"order_date\"])\n",
        "orderCustDf[\"delivery_date\"] = pd.to_datetime(orderCustDf[\"delivery_date\"])\n",
        "orderCustDf.info()"
      ],
      "metadata": {
        "colab": {
          "base_uri": "https://localhost:8080/"
        },
        "id": "IWhHePNNLeVm",
        "outputId": "fac8fedf-eaed-4a43-b803-00df5b2f98fb"
      },
      "execution_count": null,
      "outputs": [
        {
          "output_type": "stream",
          "name": "stdout",
          "text": [
            "<class 'pandas.core.frame.DataFrame'>\n",
            "Int64Index: 1000 entries, 0 to 999\n",
            "Data columns (total 8 columns):\n",
            " #   Column         Non-Null Count  Dtype         \n",
            "---  ------         --------------  -----         \n",
            " 0   order_id       1000 non-null   int64         \n",
            " 1   customer_id    1000 non-null   int64         \n",
            " 2   payment        1000 non-null   int64         \n",
            " 3   order_date     1000 non-null   datetime64[ns]\n",
            " 4   delivery_date  1000 non-null   datetime64[ns]\n",
            " 5   customer_name  1000 non-null   object        \n",
            " 6   gender         1000 non-null   object        \n",
            " 7   age            1000 non-null   int64         \n",
            "dtypes: datetime64[ns](2), int64(4), object(2)\n",
            "memory usage: 70.3+ KB\n"
          ]
        }
      ]
    },
    {
      "cell_type": "code",
      "source": [
        "orderCustDf.head()"
      ],
      "metadata": {
        "colab": {
          "base_uri": "https://localhost:8080/",
          "height": 206
        },
        "id": "WQ_NX4je1fVS",
        "outputId": "5a47dc45-c34d-48eb-9178-433f5318da8b"
      },
      "execution_count": null,
      "outputs": [
        {
          "output_type": "execute_result",
          "data": {
            "text/plain": [
              "   order_id  customer_id  payment order_date delivery_date     customer_name  \\\n",
              "0         1           64    30811 2021-08-30    2021-09-24  Annabella Devote   \n",
              "1         2          473    50490 2021-02-03    2021-02-13       Lori Briars   \n",
              "2       221          473    49366 2021-08-03    2021-08-17       Lori Briars   \n",
              "3         3          774    46763 2021-10-08    2021-11-03      Ellynn Korba   \n",
              "4       353          774    46198 2021-03-30    2021-04-05      Ellynn Korba   \n",
              "\n",
              "     gender  age  \n",
              "0  Intersex   75  \n",
              "1      Male   61  \n",
              "2      Male   61  \n",
              "3  Intersex   34  \n",
              "4  Intersex   34  "
            ],
            "text/html": [
              "\n",
              "  <div id=\"df-69f4927c-af47-44a7-85a5-1a57136153b8\" class=\"colab-df-container\">\n",
              "    <div>\n",
              "<style scoped>\n",
              "    .dataframe tbody tr th:only-of-type {\n",
              "        vertical-align: middle;\n",
              "    }\n",
              "\n",
              "    .dataframe tbody tr th {\n",
              "        vertical-align: top;\n",
              "    }\n",
              "\n",
              "    .dataframe thead th {\n",
              "        text-align: right;\n",
              "    }\n",
              "</style>\n",
              "<table border=\"1\" class=\"dataframe\">\n",
              "  <thead>\n",
              "    <tr style=\"text-align: right;\">\n",
              "      <th></th>\n",
              "      <th>order_id</th>\n",
              "      <th>customer_id</th>\n",
              "      <th>payment</th>\n",
              "      <th>order_date</th>\n",
              "      <th>delivery_date</th>\n",
              "      <th>customer_name</th>\n",
              "      <th>gender</th>\n",
              "      <th>age</th>\n",
              "    </tr>\n",
              "  </thead>\n",
              "  <tbody>\n",
              "    <tr>\n",
              "      <th>0</th>\n",
              "      <td>1</td>\n",
              "      <td>64</td>\n",
              "      <td>30811</td>\n",
              "      <td>2021-08-30</td>\n",
              "      <td>2021-09-24</td>\n",
              "      <td>Annabella Devote</td>\n",
              "      <td>Intersex</td>\n",
              "      <td>75</td>\n",
              "    </tr>\n",
              "    <tr>\n",
              "      <th>1</th>\n",
              "      <td>2</td>\n",
              "      <td>473</td>\n",
              "      <td>50490</td>\n",
              "      <td>2021-02-03</td>\n",
              "      <td>2021-02-13</td>\n",
              "      <td>Lori Briars</td>\n",
              "      <td>Male</td>\n",
              "      <td>61</td>\n",
              "    </tr>\n",
              "    <tr>\n",
              "      <th>2</th>\n",
              "      <td>221</td>\n",
              "      <td>473</td>\n",
              "      <td>49366</td>\n",
              "      <td>2021-08-03</td>\n",
              "      <td>2021-08-17</td>\n",
              "      <td>Lori Briars</td>\n",
              "      <td>Male</td>\n",
              "      <td>61</td>\n",
              "    </tr>\n",
              "    <tr>\n",
              "      <th>3</th>\n",
              "      <td>3</td>\n",
              "      <td>774</td>\n",
              "      <td>46763</td>\n",
              "      <td>2021-10-08</td>\n",
              "      <td>2021-11-03</td>\n",
              "      <td>Ellynn Korba</td>\n",
              "      <td>Intersex</td>\n",
              "      <td>34</td>\n",
              "    </tr>\n",
              "    <tr>\n",
              "      <th>4</th>\n",
              "      <td>353</td>\n",
              "      <td>774</td>\n",
              "      <td>46198</td>\n",
              "      <td>2021-03-30</td>\n",
              "      <td>2021-04-05</td>\n",
              "      <td>Ellynn Korba</td>\n",
              "      <td>Intersex</td>\n",
              "      <td>34</td>\n",
              "    </tr>\n",
              "  </tbody>\n",
              "</table>\n",
              "</div>\n",
              "    <div class=\"colab-df-buttons\">\n",
              "\n",
              "  <div class=\"colab-df-container\">\n",
              "    <button class=\"colab-df-convert\" onclick=\"convertToInteractive('df-69f4927c-af47-44a7-85a5-1a57136153b8')\"\n",
              "            title=\"Convert this dataframe to an interactive table.\"\n",
              "            style=\"display:none;\">\n",
              "\n",
              "  <svg xmlns=\"http://www.w3.org/2000/svg\" height=\"24px\" viewBox=\"0 -960 960 960\">\n",
              "    <path d=\"M120-120v-720h720v720H120Zm60-500h600v-160H180v160Zm220 220h160v-160H400v160Zm0 220h160v-160H400v160ZM180-400h160v-160H180v160Zm440 0h160v-160H620v160ZM180-180h160v-160H180v160Zm440 0h160v-160H620v160Z\"/>\n",
              "  </svg>\n",
              "    </button>\n",
              "\n",
              "  <style>\n",
              "    .colab-df-container {\n",
              "      display:flex;\n",
              "      gap: 12px;\n",
              "    }\n",
              "\n",
              "    .colab-df-convert {\n",
              "      background-color: #E8F0FE;\n",
              "      border: none;\n",
              "      border-radius: 50%;\n",
              "      cursor: pointer;\n",
              "      display: none;\n",
              "      fill: #1967D2;\n",
              "      height: 32px;\n",
              "      padding: 0 0 0 0;\n",
              "      width: 32px;\n",
              "    }\n",
              "\n",
              "    .colab-df-convert:hover {\n",
              "      background-color: #E2EBFA;\n",
              "      box-shadow: 0px 1px 2px rgba(60, 64, 67, 0.3), 0px 1px 3px 1px rgba(60, 64, 67, 0.15);\n",
              "      fill: #174EA6;\n",
              "    }\n",
              "\n",
              "    .colab-df-buttons div {\n",
              "      margin-bottom: 4px;\n",
              "    }\n",
              "\n",
              "    [theme=dark] .colab-df-convert {\n",
              "      background-color: #3B4455;\n",
              "      fill: #D2E3FC;\n",
              "    }\n",
              "\n",
              "    [theme=dark] .colab-df-convert:hover {\n",
              "      background-color: #434B5C;\n",
              "      box-shadow: 0px 1px 3px 1px rgba(0, 0, 0, 0.15);\n",
              "      filter: drop-shadow(0px 1px 2px rgba(0, 0, 0, 0.3));\n",
              "      fill: #FFFFFF;\n",
              "    }\n",
              "  </style>\n",
              "\n",
              "    <script>\n",
              "      const buttonEl =\n",
              "        document.querySelector('#df-69f4927c-af47-44a7-85a5-1a57136153b8 button.colab-df-convert');\n",
              "      buttonEl.style.display =\n",
              "        google.colab.kernel.accessAllowed ? 'block' : 'none';\n",
              "\n",
              "      async function convertToInteractive(key) {\n",
              "        const element = document.querySelector('#df-69f4927c-af47-44a7-85a5-1a57136153b8');\n",
              "        const dataTable =\n",
              "          await google.colab.kernel.invokeFunction('convertToInteractive',\n",
              "                                                    [key], {});\n",
              "        if (!dataTable) return;\n",
              "\n",
              "        const docLinkHtml = 'Like what you see? Visit the ' +\n",
              "          '<a target=\"_blank\" href=https://colab.research.google.com/notebooks/data_table.ipynb>data table notebook</a>'\n",
              "          + ' to learn more about interactive tables.';\n",
              "        element.innerHTML = '';\n",
              "        dataTable['output_type'] = 'display_data';\n",
              "        await google.colab.output.renderOutput(dataTable, element);\n",
              "        const docLink = document.createElement('div');\n",
              "        docLink.innerHTML = docLinkHtml;\n",
              "        element.appendChild(docLink);\n",
              "      }\n",
              "    </script>\n",
              "  </div>\n",
              "\n",
              "\n",
              "<div id=\"df-5694b4a2-58ee-4c7b-a625-34b965a12b13\">\n",
              "  <button class=\"colab-df-quickchart\" onclick=\"quickchart('df-5694b4a2-58ee-4c7b-a625-34b965a12b13')\"\n",
              "            title=\"Suggest charts\"\n",
              "            style=\"display:none;\">\n",
              "\n",
              "<svg xmlns=\"http://www.w3.org/2000/svg\" height=\"24px\"viewBox=\"0 0 24 24\"\n",
              "     width=\"24px\">\n",
              "    <g>\n",
              "        <path d=\"M19 3H5c-1.1 0-2 .9-2 2v14c0 1.1.9 2 2 2h14c1.1 0 2-.9 2-2V5c0-1.1-.9-2-2-2zM9 17H7v-7h2v7zm4 0h-2V7h2v10zm4 0h-2v-4h2v4z\"/>\n",
              "    </g>\n",
              "</svg>\n",
              "  </button>\n",
              "\n",
              "<style>\n",
              "  .colab-df-quickchart {\n",
              "      --bg-color: #E8F0FE;\n",
              "      --fill-color: #1967D2;\n",
              "      --hover-bg-color: #E2EBFA;\n",
              "      --hover-fill-color: #174EA6;\n",
              "      --disabled-fill-color: #AAA;\n",
              "      --disabled-bg-color: #DDD;\n",
              "  }\n",
              "\n",
              "  [theme=dark] .colab-df-quickchart {\n",
              "      --bg-color: #3B4455;\n",
              "      --fill-color: #D2E3FC;\n",
              "      --hover-bg-color: #434B5C;\n",
              "      --hover-fill-color: #FFFFFF;\n",
              "      --disabled-bg-color: #3B4455;\n",
              "      --disabled-fill-color: #666;\n",
              "  }\n",
              "\n",
              "  .colab-df-quickchart {\n",
              "    background-color: var(--bg-color);\n",
              "    border: none;\n",
              "    border-radius: 50%;\n",
              "    cursor: pointer;\n",
              "    display: none;\n",
              "    fill: var(--fill-color);\n",
              "    height: 32px;\n",
              "    padding: 0;\n",
              "    width: 32px;\n",
              "  }\n",
              "\n",
              "  .colab-df-quickchart:hover {\n",
              "    background-color: var(--hover-bg-color);\n",
              "    box-shadow: 0 1px 2px rgba(60, 64, 67, 0.3), 0 1px 3px 1px rgba(60, 64, 67, 0.15);\n",
              "    fill: var(--button-hover-fill-color);\n",
              "  }\n",
              "\n",
              "  .colab-df-quickchart-complete:disabled,\n",
              "  .colab-df-quickchart-complete:disabled:hover {\n",
              "    background-color: var(--disabled-bg-color);\n",
              "    fill: var(--disabled-fill-color);\n",
              "    box-shadow: none;\n",
              "  }\n",
              "\n",
              "  .colab-df-spinner {\n",
              "    border: 2px solid var(--fill-color);\n",
              "    border-color: transparent;\n",
              "    border-bottom-color: var(--fill-color);\n",
              "    animation:\n",
              "      spin 1s steps(1) infinite;\n",
              "  }\n",
              "\n",
              "  @keyframes spin {\n",
              "    0% {\n",
              "      border-color: transparent;\n",
              "      border-bottom-color: var(--fill-color);\n",
              "      border-left-color: var(--fill-color);\n",
              "    }\n",
              "    20% {\n",
              "      border-color: transparent;\n",
              "      border-left-color: var(--fill-color);\n",
              "      border-top-color: var(--fill-color);\n",
              "    }\n",
              "    30% {\n",
              "      border-color: transparent;\n",
              "      border-left-color: var(--fill-color);\n",
              "      border-top-color: var(--fill-color);\n",
              "      border-right-color: var(--fill-color);\n",
              "    }\n",
              "    40% {\n",
              "      border-color: transparent;\n",
              "      border-right-color: var(--fill-color);\n",
              "      border-top-color: var(--fill-color);\n",
              "    }\n",
              "    60% {\n",
              "      border-color: transparent;\n",
              "      border-right-color: var(--fill-color);\n",
              "    }\n",
              "    80% {\n",
              "      border-color: transparent;\n",
              "      border-right-color: var(--fill-color);\n",
              "      border-bottom-color: var(--fill-color);\n",
              "    }\n",
              "    90% {\n",
              "      border-color: transparent;\n",
              "      border-bottom-color: var(--fill-color);\n",
              "    }\n",
              "  }\n",
              "</style>\n",
              "\n",
              "  <script>\n",
              "    async function quickchart(key) {\n",
              "      const quickchartButtonEl =\n",
              "        document.querySelector('#' + key + ' button');\n",
              "      quickchartButtonEl.disabled = true;  // To prevent multiple clicks.\n",
              "      quickchartButtonEl.classList.add('colab-df-spinner');\n",
              "      try {\n",
              "        const charts = await google.colab.kernel.invokeFunction(\n",
              "            'suggestCharts', [key], {});\n",
              "      } catch (error) {\n",
              "        console.error('Error during call to suggestCharts:', error);\n",
              "      }\n",
              "      quickchartButtonEl.classList.remove('colab-df-spinner');\n",
              "      quickchartButtonEl.classList.add('colab-df-quickchart-complete');\n",
              "    }\n",
              "    (() => {\n",
              "      let quickchartButtonEl =\n",
              "        document.querySelector('#df-5694b4a2-58ee-4c7b-a625-34b965a12b13 button');\n",
              "      quickchartButtonEl.style.display =\n",
              "        google.colab.kernel.accessAllowed ? 'block' : 'none';\n",
              "    })();\n",
              "  </script>\n",
              "</div>\n",
              "    </div>\n",
              "  </div>\n"
            ]
          },
          "metadata": {},
          "execution_count": 73
        }
      ]
    },
    {
      "cell_type": "markdown",
      "source": [
        "## EDA (Exploratory Data Analysis)"
      ],
      "metadata": {
        "id": "QGWTfe0R2c7j"
      }
    },
    {
      "cell_type": "markdown",
      "source": [
        "# Descriptive Analytics"
      ],
      "metadata": {
        "id": "9yE9isXV2BEc"
      }
    },
    {
      "cell_type": "code",
      "source": [
        "orderCustDf.info()"
      ],
      "metadata": {
        "colab": {
          "base_uri": "https://localhost:8080/"
        },
        "id": "SCwAsfba27q4",
        "outputId": "d97c9466-b0d3-4480-ac9b-23124aef1ae0"
      },
      "execution_count": null,
      "outputs": [
        {
          "output_type": "stream",
          "name": "stdout",
          "text": [
            "<class 'pandas.core.frame.DataFrame'>\n",
            "Int64Index: 1000 entries, 0 to 999\n",
            "Data columns (total 8 columns):\n",
            " #   Column         Non-Null Count  Dtype         \n",
            "---  ------         --------------  -----         \n",
            " 0   order_id       1000 non-null   int64         \n",
            " 1   customer_id    1000 non-null   int64         \n",
            " 2   payment        1000 non-null   int64         \n",
            " 3   order_date     1000 non-null   datetime64[ns]\n",
            " 4   delivery_date  1000 non-null   datetime64[ns]\n",
            " 5   customer_name  1000 non-null   object        \n",
            " 6   gender         1000 non-null   object        \n",
            " 7   age            1000 non-null   int64         \n",
            "dtypes: datetime64[ns](2), int64(4), object(2)\n",
            "memory usage: 70.3+ KB\n"
          ]
        }
      ]
    },
    {
      "cell_type": "markdown",
      "source": [
        "How many order per customer?"
      ],
      "metadata": {
        "id": "Lp26bh0n3ZIU"
      }
    },
    {
      "cell_type": "code",
      "source": [
        "order_count_per_customer = orderCustDf.groupby('customer_id')['order_id'].count().reset_index()\n",
        "order_count_per_customer = order_count_per_customer.rename(columns={'order_id': 'order_count'})\n",
        "order_count_per_customer = order_count_per_customer.sort_values(by=\"order_count\", ascending=False)\n",
        "print(order_count_per_customer)"
      ],
      "metadata": {
        "colab": {
          "base_uri": "https://localhost:8080/"
        },
        "id": "NHJz2oRZ3QRA",
        "outputId": "c63392d5-7b5b-4bfd-debb-18fdd43105c7"
      },
      "execution_count": null,
      "outputs": [
        {
          "output_type": "stream",
          "name": "stdout",
          "text": [
            "     customer_id  order_count\n",
            "351          571            6\n",
            "212          348            5\n",
            "347          566            5\n",
            "166          282            5\n",
            "410          664            5\n",
            "..           ...          ...\n",
            "224          368            1\n",
            "222          366            1\n",
            "221          365            1\n",
            "220          364            1\n",
            "616         1000            1\n",
            "\n",
            "[617 rows x 2 columns]\n"
          ]
        }
      ]
    },
    {
      "cell_type": "markdown",
      "source": [
        "How many order per month?"
      ],
      "metadata": {
        "id": "0u3b11b8NOmT"
      }
    },
    {
      "cell_type": "code",
      "source": [
        "orderCustDf['order_month'] = orderCustDf['order_date'].dt.to_period('M')\n",
        "order_count_per_customer_month = orderCustDf.groupby('order_month').size().reset_index(name='order_count')\n",
        "print(order_count_per_customer_month)"
      ],
      "metadata": {
        "colab": {
          "base_uri": "https://localhost:8080/"
        },
        "id": "ph89VMf3NOOT",
        "outputId": "bb4df4be-99a6-48b7-bd63-051b7d807026"
      },
      "execution_count": null,
      "outputs": [
        {
          "output_type": "stream",
          "name": "stdout",
          "text": [
            "  order_month  order_count\n",
            "0     2021-01          109\n",
            "1     2021-02           94\n",
            "2     2021-03          118\n",
            "3     2021-04          101\n",
            "4     2021-05           84\n",
            "5     2021-06          103\n",
            "6     2021-07          105\n",
            "7     2021-08          107\n",
            "8     2021-09           98\n",
            "9     2021-10           81\n"
          ]
        }
      ]
    },
    {
      "cell_type": "markdown",
      "source": [
        "How many order per product?"
      ],
      "metadata": {
        "id": "piC2oJNVPnb5"
      }
    },
    {
      "cell_type": "code",
      "source": [
        "order_count_per_product = orderSalesProdDf.groupby(['product_id', 'product_name', 'product_type'])['order_id'].count().reset_index()\n",
        "order_count_per_product = order_count_per_product.rename(columns={'order_id': 'order_count'})\n",
        "order_count_per_product = order_count_per_product.sort_values(by=\"order_count\", ascending=False)\n",
        "print(order_count_per_product)"
      ],
      "metadata": {
        "colab": {
          "base_uri": "https://localhost:8080/"
        },
        "id": "_qnJ7jEsPuF4",
        "outputId": "c9f2ab8f-3f21-4cbe-a6e5-db70d3471d1f"
      },
      "execution_count": null,
      "outputs": [
        {
          "output_type": "stream",
          "name": "stdout",
          "text": [
            "      product_id   product_name product_type  order_count\n",
            "76            78        Flannel        Shirt           13\n",
            "725          740        Peacoat       Jacket           12\n",
            "824          843         Chinos     Trousers           11\n",
            "570          579         Bomber       Jacket           11\n",
            "1014        1038    Relaxed Leg     Trousers           10\n",
            "...          ...            ...          ...          ...\n",
            "454          461         Puffer       Jacket            1\n",
            "186          188  Camp Collared        Shirt            1\n",
            "746          763        Peacoat       Jacket            1\n",
            "432          438          Denim       Jacket            1\n",
            "592          602       Cardigan       Jacket            1\n",
            "\n",
            "[1233 rows x 4 columns]\n"
          ]
        }
      ]
    },
    {
      "cell_type": "markdown",
      "source": [
        "How many order per customer based on month?"
      ],
      "metadata": {
        "id": "2CXLpIu1TXQN"
      }
    },
    {
      "cell_type": "code",
      "source": [
        "orderCustDf['order_month'] = orderCustDf['order_date'].dt.to_period('M')\n",
        "order_count_per_customer_month = pd.pivot_table(orderCustDf, values='order_id', index='customer_id', columns='order_month', aggfunc='count', fill_value=0)\n",
        "order_count_per_customer_month.columns = order_count_per_customer_month.columns.strftime('%Y-%m')\n",
        "print(order_count_per_customer_month)"
      ],
      "metadata": {
        "colab": {
          "base_uri": "https://localhost:8080/"
        },
        "id": "YVJVDPVaTWya",
        "outputId": "9219c8b6-551d-4f0b-dc85-c59cea5b6fdc"
      },
      "execution_count": null,
      "outputs": [
        {
          "output_type": "stream",
          "name": "stdout",
          "text": [
            "order_month  2021-01  2021-02  2021-03  2021-04  2021-05  2021-06  2021-07  \\\n",
            "customer_id                                                                  \n",
            "1                  0        1        1        1        0        0        0   \n",
            "7                  0        0        0        0        1        0        0   \n",
            "10                 0        0        1        0        0        0        0   \n",
            "11                 0        0        0        0        1        0        0   \n",
            "12                 0        0        0        0        0        1        0   \n",
            "...              ...      ...      ...      ...      ...      ...      ...   \n",
            "994                1        0        0        0        0        0        0   \n",
            "995                0        0        0        0        0        0        0   \n",
            "996                0        0        1        0        0        0        0   \n",
            "998                1        1        1        0        0        0        1   \n",
            "1000               0        0        0        0        0        0        0   \n",
            "\n",
            "order_month  2021-08  2021-09  2021-10  \n",
            "customer_id                             \n",
            "1                  0        0        0  \n",
            "7                  0        0        0  \n",
            "10                 0        0        0  \n",
            "11                 0        0        0  \n",
            "12                 0        0        0  \n",
            "...              ...      ...      ...  \n",
            "994                0        0        0  \n",
            "995                1        0        0  \n",
            "996                0        1        0  \n",
            "998                0        0        0  \n",
            "1000               0        0        1  \n",
            "\n",
            "[617 rows x 10 columns]\n"
          ]
        }
      ]
    },
    {
      "cell_type": "markdown",
      "source": [
        "#Business Question"
      ],
      "metadata": {
        "id": "jjpP6ax7eV4h"
      }
    },
    {
      "cell_type": "markdown",
      "source": [
        "What is the percentage of customers who have become inactive over the last three months?\n",
        "Assuming today is 1 November 2021"
      ],
      "metadata": {
        "id": "Z182m6qhVIv1"
      }
    },
    {
      "cell_type": "code",
      "source": [
        "currentDate = pd.to_datetime('2021-11-01')\n",
        "last3Months = currentDate - pd.DateOffset(months=3)\n",
        "lastOrder = orderDf[orderDf['order_date'] >= last3Months]\n",
        "lastOrder = lastOrder['customer_id'].unique()\n",
        "print(lastOrder)"
      ],
      "metadata": {
        "colab": {
          "base_uri": "https://localhost:8080/"
        },
        "id": "7fJYus7zVVID",
        "outputId": "27a36cbb-75a7-40af-a5d1-05936d4923ed"
      },
      "execution_count": null,
      "outputs": [
        {
          "output_type": "stream",
          "name": "stdout",
          "text": [
            "[  64  774  800  659  204  468  513  469  206  358   51  849  454  493\n",
            "  631   68  181  874  448  803  908  291  607  160  321  936  629  539\n",
            "  298  528  912  818  357  727  674  208  867  443  574  315  715  240\n",
            "  833  415  630  640   15  568  644   28   62  678  526  555  473  368\n",
            "  664  406  107  497  996  133  767  530  909  637  179  571  605  313\n",
            "  742  878   34  828  303  882  799  201  364  426  499  207   58  758\n",
            "  747  679   95  933   41  686  367  485  341  348  673  732   52  870\n",
            "   96  556  623  146  508   13  331   94  980   47  427  589  129  729\n",
            "  918  745  691  776   20  419  739  269  286  553  185  163  566  123\n",
            "  371  757  810  452  227  111  638   77  816  352  690  937  737  648\n",
            "  125  282  223  244  986   79  343  523   49  490   26  330  922  632\n",
            "  583   54  783  402  308  921  549  735  808  534  904  327  886  548\n",
            "  794  417  328  787  924  456  889  463  956  851  884  941  230  687\n",
            "  474  225  387  755  401  135  447  754  211  750  693  535  198   83\n",
            "  955  929  558  422  265  465  108  762  995  501  416  684  219  764\n",
            "  801  524  375  338  627  971  306   35  515  813  653  680  577  984\n",
            "  647  550  954  370   16  898  350 1000  278  408  189  780  703  963\n",
            "   45  662  883  740  362  272  232  778   84  830  359  116   87]\n"
          ]
        }
      ]
    },
    {
      "cell_type": "code",
      "source": [
        "lastCust = custDf[custDf['customer_id'].isin(lastOrder)]\n",
        "print(lastCust)"
      ],
      "metadata": {
        "colab": {
          "base_uri": "https://localhost:8080/"
        },
        "id": "je93XeQJZT-Q",
        "outputId": "275b7095-9e1b-4c79-906f-1e0365100acb"
      },
      "execution_count": null,
      "outputs": [
        {
          "output_type": "stream",
          "name": "stdout",
          "text": [
            "     customer_id      customer_name    gender  age\n",
            "12            13    Marabel Swinfon      Male   42\n",
            "14            15     Avril Rossiter  Intersex   34\n",
            "15            16  Gabbie Aldwinckle      Male   75\n",
            "19            20       Gigi Kalaher  Intersex   55\n",
            "25            26   Timothy Compston  Intersex   50\n",
            "..           ...                ...       ...  ...\n",
            "983          984     Devin Lindmark    Female   57\n",
            "985          986  Theodosia Postins  Intersex   38\n",
            "994          995      Leandra Derks  Intersex   63\n",
            "995          996     Elvira Sarfati  Intersex   59\n",
            "999         1000   Mandel Fairbanks      Male   71\n",
            "\n",
            "[251 rows x 4 columns]\n"
          ]
        }
      ]
    },
    {
      "cell_type": "code",
      "source": [
        "activeCustCount = lastCust.shape[0]\n",
        "print(\"Total active users in last three month is\", activeCustCount, \"users\")"
      ],
      "metadata": {
        "colab": {
          "base_uri": "https://localhost:8080/"
        },
        "id": "FgFmVOaRaudX",
        "outputId": "98407e4b-0cc6-40df-ddca-044dd43beebf"
      },
      "execution_count": null,
      "outputs": [
        {
          "output_type": "stream",
          "name": "stdout",
          "text": [
            "Total active users in last three month is 251 users\n"
          ]
        }
      ]
    },
    {
      "cell_type": "code",
      "source": [
        "totalCust = custDf.shape[0]\n",
        "activePercentage = activeCustCount/totalCust * 100\n",
        "unactiveCustCount = abs(totalCust - activeCustCount)\n",
        "unactivePercentage = unactiveCustCount/totalCust * 100\n",
        "\n",
        "print(\"Total customers who have became inactive over the last three months is\", unactiveCustCount, \"customers\")\n",
        "print(\"This count is about \", unactivePercentage, \"% of all customers count\", sep=\"\")"
      ],
      "metadata": {
        "colab": {
          "base_uri": "https://localhost:8080/"
        },
        "id": "6kD7ToAzbCbF",
        "outputId": "2ffbbe99-8bfc-4f6e-dcf3-34ea84291749"
      },
      "execution_count": null,
      "outputs": [
        {
          "output_type": "stream",
          "name": "stdout",
          "text": [
            "Total customers who have become inactive over the last three months is 749 customers\n",
            "This count is about 74.9% of all customers count\n"
          ]
        }
      ]
    }
  ]
}
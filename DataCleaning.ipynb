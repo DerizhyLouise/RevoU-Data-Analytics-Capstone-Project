{
  "cells": [
    {
      "cell_type": "markdown",
      "metadata": {
        "colab_type": "text",
        "id": "view-in-github"
      },
      "source": [
        "<a href=\"https://colab.research.google.com/github/DerizhyLouise/RevoU-Data-Analytics-Capstone-Project/blob/main/DataCleaning.ipynb\" target=\"_parent\"><img src=\"https://colab.research.google.com/assets/colab-badge.svg\" alt=\"Open In Colab\"/></a>"
      ]
    },
    {
      "cell_type": "markdown",
      "metadata": {
        "id": "JIxhJ-AjHz3g"
      },
      "source": [
        "Import all needed library and Mount Google Drive to Google Colab"
      ]
    },
    {
      "cell_type": "code",
      "execution_count": null,
      "metadata": {
        "colab": {
          "base_uri": "https://localhost:8080/"
        },
        "id": "x3-6c8s5wq1U",
        "outputId": "754f2143-74ae-465a-9ed1-09ba1b70c2b8"
      },
      "outputs": [
        {
          "name": "stdout",
          "output_type": "stream",
          "text": [
            "Mounted at /content/drive\n"
          ]
        }
      ],
      "source": [
        "import pandas as pd\n",
        "import numpy as np\n",
        "import seaborn as sns\n",
        "import matplotlib.pyplot as plt\n",
        "from google.colab import drive\n",
        "\n",
        "drive.mount(\"/content/drive\")\n",
        "\n",
        "# For Google Colaboratory\n",
        "%cd '/content/drive/MyDrive/RevoU - Capstone Project/Dataset'\n",
        "\n",
        "# For Github Local Repository\n",
        "# %cd '/Dataset'"
      ]
    },
    {
      "cell_type": "markdown",
      "metadata": {
        "id": "G9m8M6f4ICIQ"
      },
      "source": [
        "Import all dataset"
      ]
    },
    {
      "cell_type": "code",
      "execution_count": null,
      "metadata": {
        "id": "BzDzOCJBIAsJ"
      },
      "outputs": [],
      "source": [
        "# Customers\n",
        "custDf = pd.read_csv(\"customers.csv\")\n",
        "\n",
        "# Products\n",
        "prodDf = pd.read_csv(\"products.csv\")\n",
        "\n",
        "# Orders\n",
        "orderDf = pd.read_csv(\"orders.csv\")\n",
        "\n",
        "# Sales\n",
        "salesDf = pd.read_csv(\"sales.csv\")"
      ]
    },
    {
      "cell_type": "markdown",
      "metadata": {
        "id": "UWLCrd68Jysy"
      },
      "source": [
        "Data Cleaning for Customers Dataset"
      ]
    },
    {
      "cell_type": "code",
      "execution_count": null,
      "metadata": {
        "colab": {
          "base_uri": "https://localhost:8080/"
        },
        "id": "6p9RrGM3Lxs5",
        "outputId": "c44d696e-f75d-4003-c3f3-23c679346f79"
      },
      "outputs": [
        {
          "name": "stdout",
          "output_type": "stream",
          "text": [
            "<class 'pandas.core.frame.DataFrame'>\n",
            "RangeIndex: 1000 entries, 0 to 999\n",
            "Data columns (total 9 columns):\n",
            " #   Column         Non-Null Count  Dtype \n",
            "---  ------         --------------  ----- \n",
            " 0   customer_id    1000 non-null   int64 \n",
            " 1   customer_name  1000 non-null   object\n",
            " 2   gender         1000 non-null   object\n",
            " 3   age            1000 non-null   int64 \n",
            " 4   home_address   1000 non-null   object\n",
            " 5   zip_code       1000 non-null   int64 \n",
            " 6   city           1000 non-null   object\n",
            " 7   state          1000 non-null   object\n",
            " 8   country        1000 non-null   object\n",
            "dtypes: int64(3), object(6)\n",
            "memory usage: 70.4+ KB\n"
          ]
        }
      ],
      "source": [
        "# Check custDf information\n",
        "custDf.info()"
      ]
    },
    {
      "cell_type": "code",
      "execution_count": null,
      "metadata": {
        "colab": {
          "base_uri": "https://localhost:8080/"
        },
        "id": "wedvXbQ6SSBn",
        "outputId": "1d357789-d9df-42d8-aa26-26f1d1ea932c"
      },
      "outputs": [
        {
          "name": "stdout",
          "output_type": "stream",
          "text": [
            "<class 'pandas.core.frame.DataFrame'>\n",
            "RangeIndex: 1000 entries, 0 to 999\n",
            "Data columns (total 4 columns):\n",
            " #   Column         Non-Null Count  Dtype \n",
            "---  ------         --------------  ----- \n",
            " 0   customer_id    1000 non-null   int64 \n",
            " 1   customer_name  1000 non-null   object\n",
            " 2   gender         1000 non-null   object\n",
            " 3   age            1000 non-null   int64 \n",
            "dtypes: int64(2), object(2)\n",
            "memory usage: 31.4+ KB\n"
          ]
        }
      ],
      "source": [
        "# Delete Unwanted Column\n",
        "deleteCol = ['home_address', 'zip_code', 'city', 'state', 'country']\n",
        "custDf.drop(deleteCol, axis=1, inplace=True)\n",
        "custDf.info()"
      ]
    },
    {
      "cell_type": "code",
      "execution_count": null,
      "metadata": {
        "colab": {
          "base_uri": "https://localhost:8080/"
        },
        "id": "lKUh1MimMClZ",
        "outputId": "9c8eeb3f-6f32-4aee-9853-fde51d90a861"
      },
      "outputs": [
        {
          "data": {
            "text/plain": [
              "customer_id      0\n",
              "customer_name    0\n",
              "gender           0\n",
              "age              0\n",
              "dtype: int64"
            ]
          },
          "execution_count": 8,
          "metadata": {},
          "output_type": "execute_result"
        }
      ],
      "source": [
        "# Check Null\n",
        "custDf.isnull().sum()"
      ]
    },
    {
      "cell_type": "code",
      "execution_count": null,
      "metadata": {
        "colab": {
          "base_uri": "https://localhost:8080/"
        },
        "id": "wFss2I38MU0S",
        "outputId": "8a85ed97-b755-477f-bccd-5a1ae35fb757"
      },
      "outputs": [
        {
          "data": {
            "text/plain": [
              "customer_id      0\n",
              "customer_name    0\n",
              "gender           0\n",
              "age              0\n",
              "dtype: int64"
            ]
          },
          "execution_count": 9,
          "metadata": {},
          "output_type": "execute_result"
        }
      ],
      "source": [
        "# Check Na\n",
        "custDf.isna().sum()"
      ]
    },
    {
      "cell_type": "code",
      "execution_count": null,
      "metadata": {
        "colab": {
          "base_uri": "https://localhost:8080/"
        },
        "id": "Dh_wlXEKNXt4",
        "outputId": "adaa89d7-4918-4b00-ac8d-bb69c6ce6b6c"
      },
      "outputs": [
        {
          "data": {
            "text/plain": [
              "0"
            ]
          },
          "execution_count": 10,
          "metadata": {},
          "output_type": "execute_result"
        }
      ],
      "source": [
        "# Check duplication\n",
        "custDf.duplicated().sum()"
      ]
    },
    {
      "cell_type": "code",
      "execution_count": null,
      "metadata": {
        "colab": {
          "base_uri": "https://localhost:8080/",
          "height": 206
        },
        "id": "W3aAV-yeTAWJ",
        "outputId": "06f24039-f1c1-4b47-8d7d-4321523fc6c1"
      },
      "outputs": [
        {
          "data": {
            "text/html": [
              "\n",
              "  <div id=\"df-cc75f283-e305-4a6f-a9e6-7b8a412aeec0\" class=\"colab-df-container\">\n",
              "    <div>\n",
              "<style scoped>\n",
              "    .dataframe tbody tr th:only-of-type {\n",
              "        vertical-align: middle;\n",
              "    }\n",
              "\n",
              "    .dataframe tbody tr th {\n",
              "        vertical-align: top;\n",
              "    }\n",
              "\n",
              "    .dataframe thead th {\n",
              "        text-align: right;\n",
              "    }\n",
              "</style>\n",
              "<table border=\"1\" class=\"dataframe\">\n",
              "  <thead>\n",
              "    <tr style=\"text-align: right;\">\n",
              "      <th></th>\n",
              "      <th>customer_id</th>\n",
              "      <th>customer_name</th>\n",
              "      <th>gender</th>\n",
              "      <th>age</th>\n",
              "    </tr>\n",
              "  </thead>\n",
              "  <tbody>\n",
              "    <tr>\n",
              "      <th>0</th>\n",
              "      <td>1</td>\n",
              "      <td>Leanna Busson</td>\n",
              "      <td>Female</td>\n",
              "      <td>30</td>\n",
              "    </tr>\n",
              "    <tr>\n",
              "      <th>1</th>\n",
              "      <td>2</td>\n",
              "      <td>Zabrina Harrowsmith</td>\n",
              "      <td>Genderfluid</td>\n",
              "      <td>69</td>\n",
              "    </tr>\n",
              "    <tr>\n",
              "      <th>2</th>\n",
              "      <td>3</td>\n",
              "      <td>Shina Dullaghan</td>\n",
              "      <td>Polygender</td>\n",
              "      <td>59</td>\n",
              "    </tr>\n",
              "    <tr>\n",
              "      <th>3</th>\n",
              "      <td>4</td>\n",
              "      <td>Hewet McVitie</td>\n",
              "      <td>Bigender</td>\n",
              "      <td>67</td>\n",
              "    </tr>\n",
              "    <tr>\n",
              "      <th>4</th>\n",
              "      <td>5</td>\n",
              "      <td>Rubia Ashleigh</td>\n",
              "      <td>Polygender</td>\n",
              "      <td>30</td>\n",
              "    </tr>\n",
              "  </tbody>\n",
              "</table>\n",
              "</div>\n",
              "    <div class=\"colab-df-buttons\">\n",
              "\n",
              "  <div class=\"colab-df-container\">\n",
              "    <button class=\"colab-df-convert\" onclick=\"convertToInteractive('df-cc75f283-e305-4a6f-a9e6-7b8a412aeec0')\"\n",
              "            title=\"Convert this dataframe to an interactive table.\"\n",
              "            style=\"display:none;\">\n",
              "\n",
              "  <svg xmlns=\"http://www.w3.org/2000/svg\" height=\"24px\" viewBox=\"0 -960 960 960\">\n",
              "    <path d=\"M120-120v-720h720v720H120Zm60-500h600v-160H180v160Zm220 220h160v-160H400v160Zm0 220h160v-160H400v160ZM180-400h160v-160H180v160Zm440 0h160v-160H620v160ZM180-180h160v-160H180v160Zm440 0h160v-160H620v160Z\"/>\n",
              "  </svg>\n",
              "    </button>\n",
              "\n",
              "  <style>\n",
              "    .colab-df-container {\n",
              "      display:flex;\n",
              "      gap: 12px;\n",
              "    }\n",
              "\n",
              "    .colab-df-convert {\n",
              "      background-color: #E8F0FE;\n",
              "      border: none;\n",
              "      border-radius: 50%;\n",
              "      cursor: pointer;\n",
              "      display: none;\n",
              "      fill: #1967D2;\n",
              "      height: 32px;\n",
              "      padding: 0 0 0 0;\n",
              "      width: 32px;\n",
              "    }\n",
              "\n",
              "    .colab-df-convert:hover {\n",
              "      background-color: #E2EBFA;\n",
              "      box-shadow: 0px 1px 2px rgba(60, 64, 67, 0.3), 0px 1px 3px 1px rgba(60, 64, 67, 0.15);\n",
              "      fill: #174EA6;\n",
              "    }\n",
              "\n",
              "    .colab-df-buttons div {\n",
              "      margin-bottom: 4px;\n",
              "    }\n",
              "\n",
              "    [theme=dark] .colab-df-convert {\n",
              "      background-color: #3B4455;\n",
              "      fill: #D2E3FC;\n",
              "    }\n",
              "\n",
              "    [theme=dark] .colab-df-convert:hover {\n",
              "      background-color: #434B5C;\n",
              "      box-shadow: 0px 1px 3px 1px rgba(0, 0, 0, 0.15);\n",
              "      filter: drop-shadow(0px 1px 2px rgba(0, 0, 0, 0.3));\n",
              "      fill: #FFFFFF;\n",
              "    }\n",
              "  </style>\n",
              "\n",
              "    <script>\n",
              "      const buttonEl =\n",
              "        document.querySelector('#df-cc75f283-e305-4a6f-a9e6-7b8a412aeec0 button.colab-df-convert');\n",
              "      buttonEl.style.display =\n",
              "        google.colab.kernel.accessAllowed ? 'block' : 'none';\n",
              "\n",
              "      async function convertToInteractive(key) {\n",
              "        const element = document.querySelector('#df-cc75f283-e305-4a6f-a9e6-7b8a412aeec0');\n",
              "        const dataTable =\n",
              "          await google.colab.kernel.invokeFunction('convertToInteractive',\n",
              "                                                    [key], {});\n",
              "        if (!dataTable) return;\n",
              "\n",
              "        const docLinkHtml = 'Like what you see? Visit the ' +\n",
              "          '<a target=\"_blank\" href=https://colab.research.google.com/notebooks/data_table.ipynb>data table notebook</a>'\n",
              "          + ' to learn more about interactive tables.';\n",
              "        element.innerHTML = '';\n",
              "        dataTable['output_type'] = 'display_data';\n",
              "        await google.colab.output.renderOutput(dataTable, element);\n",
              "        const docLink = document.createElement('div');\n",
              "        docLink.innerHTML = docLinkHtml;\n",
              "        element.appendChild(docLink);\n",
              "      }\n",
              "    </script>\n",
              "  </div>\n",
              "\n",
              "\n",
              "<div id=\"df-c9b61aae-5f6a-4450-80e6-f4332dd36200\">\n",
              "  <button class=\"colab-df-quickchart\" onclick=\"quickchart('df-c9b61aae-5f6a-4450-80e6-f4332dd36200')\"\n",
              "            title=\"Suggest charts\"\n",
              "            style=\"display:none;\">\n",
              "\n",
              "<svg xmlns=\"http://www.w3.org/2000/svg\" height=\"24px\"viewBox=\"0 0 24 24\"\n",
              "     width=\"24px\">\n",
              "    <g>\n",
              "        <path d=\"M19 3H5c-1.1 0-2 .9-2 2v14c0 1.1.9 2 2 2h14c1.1 0 2-.9 2-2V5c0-1.1-.9-2-2-2zM9 17H7v-7h2v7zm4 0h-2V7h2v10zm4 0h-2v-4h2v4z\"/>\n",
              "    </g>\n",
              "</svg>\n",
              "  </button>\n",
              "\n",
              "<style>\n",
              "  .colab-df-quickchart {\n",
              "      --bg-color: #E8F0FE;\n",
              "      --fill-color: #1967D2;\n",
              "      --hover-bg-color: #E2EBFA;\n",
              "      --hover-fill-color: #174EA6;\n",
              "      --disabled-fill-color: #AAA;\n",
              "      --disabled-bg-color: #DDD;\n",
              "  }\n",
              "\n",
              "  [theme=dark] .colab-df-quickchart {\n",
              "      --bg-color: #3B4455;\n",
              "      --fill-color: #D2E3FC;\n",
              "      --hover-bg-color: #434B5C;\n",
              "      --hover-fill-color: #FFFFFF;\n",
              "      --disabled-bg-color: #3B4455;\n",
              "      --disabled-fill-color: #666;\n",
              "  }\n",
              "\n",
              "  .colab-df-quickchart {\n",
              "    background-color: var(--bg-color);\n",
              "    border: none;\n",
              "    border-radius: 50%;\n",
              "    cursor: pointer;\n",
              "    display: none;\n",
              "    fill: var(--fill-color);\n",
              "    height: 32px;\n",
              "    padding: 0;\n",
              "    width: 32px;\n",
              "  }\n",
              "\n",
              "  .colab-df-quickchart:hover {\n",
              "    background-color: var(--hover-bg-color);\n",
              "    box-shadow: 0 1px 2px rgba(60, 64, 67, 0.3), 0 1px 3px 1px rgba(60, 64, 67, 0.15);\n",
              "    fill: var(--button-hover-fill-color);\n",
              "  }\n",
              "\n",
              "  .colab-df-quickchart-complete:disabled,\n",
              "  .colab-df-quickchart-complete:disabled:hover {\n",
              "    background-color: var(--disabled-bg-color);\n",
              "    fill: var(--disabled-fill-color);\n",
              "    box-shadow: none;\n",
              "  }\n",
              "\n",
              "  .colab-df-spinner {\n",
              "    border: 2px solid var(--fill-color);\n",
              "    border-color: transparent;\n",
              "    border-bottom-color: var(--fill-color);\n",
              "    animation:\n",
              "      spin 1s steps(1) infinite;\n",
              "  }\n",
              "\n",
              "  @keyframes spin {\n",
              "    0% {\n",
              "      border-color: transparent;\n",
              "      border-bottom-color: var(--fill-color);\n",
              "      border-left-color: var(--fill-color);\n",
              "    }\n",
              "    20% {\n",
              "      border-color: transparent;\n",
              "      border-left-color: var(--fill-color);\n",
              "      border-top-color: var(--fill-color);\n",
              "    }\n",
              "    30% {\n",
              "      border-color: transparent;\n",
              "      border-left-color: var(--fill-color);\n",
              "      border-top-color: var(--fill-color);\n",
              "      border-right-color: var(--fill-color);\n",
              "    }\n",
              "    40% {\n",
              "      border-color: transparent;\n",
              "      border-right-color: var(--fill-color);\n",
              "      border-top-color: var(--fill-color);\n",
              "    }\n",
              "    60% {\n",
              "      border-color: transparent;\n",
              "      border-right-color: var(--fill-color);\n",
              "    }\n",
              "    80% {\n",
              "      border-color: transparent;\n",
              "      border-right-color: var(--fill-color);\n",
              "      border-bottom-color: var(--fill-color);\n",
              "    }\n",
              "    90% {\n",
              "      border-color: transparent;\n",
              "      border-bottom-color: var(--fill-color);\n",
              "    }\n",
              "  }\n",
              "</style>\n",
              "\n",
              "  <script>\n",
              "    async function quickchart(key) {\n",
              "      const quickchartButtonEl =\n",
              "        document.querySelector('#' + key + ' button');\n",
              "      quickchartButtonEl.disabled = true;  // To prevent multiple clicks.\n",
              "      quickchartButtonEl.classList.add('colab-df-spinner');\n",
              "      try {\n",
              "        const charts = await google.colab.kernel.invokeFunction(\n",
              "            'suggestCharts', [key], {});\n",
              "      } catch (error) {\n",
              "        console.error('Error during call to suggestCharts:', error);\n",
              "      }\n",
              "      quickchartButtonEl.classList.remove('colab-df-spinner');\n",
              "      quickchartButtonEl.classList.add('colab-df-quickchart-complete');\n",
              "    }\n",
              "    (() => {\n",
              "      let quickchartButtonEl =\n",
              "        document.querySelector('#df-c9b61aae-5f6a-4450-80e6-f4332dd36200 button');\n",
              "      quickchartButtonEl.style.display =\n",
              "        google.colab.kernel.accessAllowed ? 'block' : 'none';\n",
              "    })();\n",
              "  </script>\n",
              "</div>\n",
              "    </div>\n",
              "  </div>\n"
            ],
            "text/plain": [
              "   customer_id        customer_name       gender  age\n",
              "0            1        Leanna Busson       Female   30\n",
              "1            2  Zabrina Harrowsmith  Genderfluid   69\n",
              "2            3      Shina Dullaghan   Polygender   59\n",
              "3            4        Hewet McVitie     Bigender   67\n",
              "4            5       Rubia Ashleigh   Polygender   30"
            ]
          },
          "execution_count": 11,
          "metadata": {},
          "output_type": "execute_result"
        }
      ],
      "source": [
        "custDf.head()"
      ]
    },
    {
      "cell_type": "code",
      "execution_count": null,
      "metadata": {
        "colab": {
          "base_uri": "https://localhost:8080/"
        },
        "id": "tXaZ-mPbTg7p",
        "outputId": "53d848c6-6907-4b01-8809-8e7ba5f64633"
      },
      "outputs": [
        {
          "data": {
            "text/plain": [
              "mean    49.860000\n",
              "max     80.000000\n",
              "min     20.000000\n",
              "std     17.647828\n",
              "Name: age, dtype: float64"
            ]
          },
          "execution_count": 12,
          "metadata": {},
          "output_type": "execute_result"
        }
      ],
      "source": [
        "# Check anomaly on Age column\n",
        "custDesc = custDf.select_dtypes(include=np.number)\n",
        "custDesc['age'].agg(['mean', 'max', 'min', 'std'])"
      ]
    },
    {
      "cell_type": "code",
      "execution_count": null,
      "metadata": {
        "colab": {
          "base_uri": "https://localhost:8080/",
          "height": 398
        },
        "id": "kfpp0AvtUEYQ",
        "outputId": "df04f3e2-c752-4528-8871-a960e2d96981"
      },
      "outputs": [
        {
          "name": "stdout",
          "output_type": "stream",
          "text": [
            "Gender list : ['Female' 'Genderfluid' 'Polygender' 'Bigender' 'Agender' 'Male'\n",
            " 'Genderqueer' 'Non-binary']\n"
          ]
        },
        {
          "data": {
            "text/html": [
              "\n",
              "  <div id=\"df-1979b722-3349-4717-99c3-6da83b194946\" class=\"colab-df-container\">\n",
              "    <div>\n",
              "<style scoped>\n",
              "    .dataframe tbody tr th:only-of-type {\n",
              "        vertical-align: middle;\n",
              "    }\n",
              "\n",
              "    .dataframe tbody tr th {\n",
              "        vertical-align: top;\n",
              "    }\n",
              "\n",
              "    .dataframe thead th {\n",
              "        text-align: right;\n",
              "    }\n",
              "</style>\n",
              "<table border=\"1\" class=\"dataframe\">\n",
              "  <thead>\n",
              "    <tr style=\"text-align: right;\">\n",
              "      <th></th>\n",
              "      <th>customer_id</th>\n",
              "      <th>customer_name</th>\n",
              "      <th>gender</th>\n",
              "      <th>age</th>\n",
              "    </tr>\n",
              "  </thead>\n",
              "  <tbody>\n",
              "    <tr>\n",
              "      <th>0</th>\n",
              "      <td>1</td>\n",
              "      <td>Leanna Busson</td>\n",
              "      <td>Female</td>\n",
              "      <td>30</td>\n",
              "    </tr>\n",
              "    <tr>\n",
              "      <th>1</th>\n",
              "      <td>2</td>\n",
              "      <td>Zabrina Harrowsmith</td>\n",
              "      <td>Intersex</td>\n",
              "      <td>69</td>\n",
              "    </tr>\n",
              "    <tr>\n",
              "      <th>2</th>\n",
              "      <td>3</td>\n",
              "      <td>Shina Dullaghan</td>\n",
              "      <td>Intersex</td>\n",
              "      <td>59</td>\n",
              "    </tr>\n",
              "    <tr>\n",
              "      <th>3</th>\n",
              "      <td>4</td>\n",
              "      <td>Hewet McVitie</td>\n",
              "      <td>Intersex</td>\n",
              "      <td>67</td>\n",
              "    </tr>\n",
              "    <tr>\n",
              "      <th>4</th>\n",
              "      <td>5</td>\n",
              "      <td>Rubia Ashleigh</td>\n",
              "      <td>Intersex</td>\n",
              "      <td>30</td>\n",
              "    </tr>\n",
              "    <tr>\n",
              "      <th>5</th>\n",
              "      <td>6</td>\n",
              "      <td>Cordey Tolcher</td>\n",
              "      <td>Intersex</td>\n",
              "      <td>40</td>\n",
              "    </tr>\n",
              "    <tr>\n",
              "      <th>6</th>\n",
              "      <td>7</td>\n",
              "      <td>Winslow Ewbanck</td>\n",
              "      <td>Intersex</td>\n",
              "      <td>76</td>\n",
              "    </tr>\n",
              "    <tr>\n",
              "      <th>7</th>\n",
              "      <td>8</td>\n",
              "      <td>Marlowe Wynn</td>\n",
              "      <td>Intersex</td>\n",
              "      <td>75</td>\n",
              "    </tr>\n",
              "    <tr>\n",
              "      <th>8</th>\n",
              "      <td>9</td>\n",
              "      <td>Brittaney Gontier</td>\n",
              "      <td>Male</td>\n",
              "      <td>51</td>\n",
              "    </tr>\n",
              "    <tr>\n",
              "      <th>9</th>\n",
              "      <td>10</td>\n",
              "      <td>Susanetta Wilshin</td>\n",
              "      <td>Intersex</td>\n",
              "      <td>70</td>\n",
              "    </tr>\n",
              "  </tbody>\n",
              "</table>\n",
              "</div>\n",
              "    <div class=\"colab-df-buttons\">\n",
              "\n",
              "  <div class=\"colab-df-container\">\n",
              "    <button class=\"colab-df-convert\" onclick=\"convertToInteractive('df-1979b722-3349-4717-99c3-6da83b194946')\"\n",
              "            title=\"Convert this dataframe to an interactive table.\"\n",
              "            style=\"display:none;\">\n",
              "\n",
              "  <svg xmlns=\"http://www.w3.org/2000/svg\" height=\"24px\" viewBox=\"0 -960 960 960\">\n",
              "    <path d=\"M120-120v-720h720v720H120Zm60-500h600v-160H180v160Zm220 220h160v-160H400v160Zm0 220h160v-160H400v160ZM180-400h160v-160H180v160Zm440 0h160v-160H620v160ZM180-180h160v-160H180v160Zm440 0h160v-160H620v160Z\"/>\n",
              "  </svg>\n",
              "    </button>\n",
              "\n",
              "  <style>\n",
              "    .colab-df-container {\n",
              "      display:flex;\n",
              "      gap: 12px;\n",
              "    }\n",
              "\n",
              "    .colab-df-convert {\n",
              "      background-color: #E8F0FE;\n",
              "      border: none;\n",
              "      border-radius: 50%;\n",
              "      cursor: pointer;\n",
              "      display: none;\n",
              "      fill: #1967D2;\n",
              "      height: 32px;\n",
              "      padding: 0 0 0 0;\n",
              "      width: 32px;\n",
              "    }\n",
              "\n",
              "    .colab-df-convert:hover {\n",
              "      background-color: #E2EBFA;\n",
              "      box-shadow: 0px 1px 2px rgba(60, 64, 67, 0.3), 0px 1px 3px 1px rgba(60, 64, 67, 0.15);\n",
              "      fill: #174EA6;\n",
              "    }\n",
              "\n",
              "    .colab-df-buttons div {\n",
              "      margin-bottom: 4px;\n",
              "    }\n",
              "\n",
              "    [theme=dark] .colab-df-convert {\n",
              "      background-color: #3B4455;\n",
              "      fill: #D2E3FC;\n",
              "    }\n",
              "\n",
              "    [theme=dark] .colab-df-convert:hover {\n",
              "      background-color: #434B5C;\n",
              "      box-shadow: 0px 1px 3px 1px rgba(0, 0, 0, 0.15);\n",
              "      filter: drop-shadow(0px 1px 2px rgba(0, 0, 0, 0.3));\n",
              "      fill: #FFFFFF;\n",
              "    }\n",
              "  </style>\n",
              "\n",
              "    <script>\n",
              "      const buttonEl =\n",
              "        document.querySelector('#df-1979b722-3349-4717-99c3-6da83b194946 button.colab-df-convert');\n",
              "      buttonEl.style.display =\n",
              "        google.colab.kernel.accessAllowed ? 'block' : 'none';\n",
              "\n",
              "      async function convertToInteractive(key) {\n",
              "        const element = document.querySelector('#df-1979b722-3349-4717-99c3-6da83b194946');\n",
              "        const dataTable =\n",
              "          await google.colab.kernel.invokeFunction('convertToInteractive',\n",
              "                                                    [key], {});\n",
              "        if (!dataTable) return;\n",
              "\n",
              "        const docLinkHtml = 'Like what you see? Visit the ' +\n",
              "          '<a target=\"_blank\" href=https://colab.research.google.com/notebooks/data_table.ipynb>data table notebook</a>'\n",
              "          + ' to learn more about interactive tables.';\n",
              "        element.innerHTML = '';\n",
              "        dataTable['output_type'] = 'display_data';\n",
              "        await google.colab.output.renderOutput(dataTable, element);\n",
              "        const docLink = document.createElement('div');\n",
              "        docLink.innerHTML = docLinkHtml;\n",
              "        element.appendChild(docLink);\n",
              "      }\n",
              "    </script>\n",
              "  </div>\n",
              "\n",
              "\n",
              "<div id=\"df-2caa9d73-35ae-49ad-b2da-d861406990ff\">\n",
              "  <button class=\"colab-df-quickchart\" onclick=\"quickchart('df-2caa9d73-35ae-49ad-b2da-d861406990ff')\"\n",
              "            title=\"Suggest charts\"\n",
              "            style=\"display:none;\">\n",
              "\n",
              "<svg xmlns=\"http://www.w3.org/2000/svg\" height=\"24px\"viewBox=\"0 0 24 24\"\n",
              "     width=\"24px\">\n",
              "    <g>\n",
              "        <path d=\"M19 3H5c-1.1 0-2 .9-2 2v14c0 1.1.9 2 2 2h14c1.1 0 2-.9 2-2V5c0-1.1-.9-2-2-2zM9 17H7v-7h2v7zm4 0h-2V7h2v10zm4 0h-2v-4h2v4z\"/>\n",
              "    </g>\n",
              "</svg>\n",
              "  </button>\n",
              "\n",
              "<style>\n",
              "  .colab-df-quickchart {\n",
              "      --bg-color: #E8F0FE;\n",
              "      --fill-color: #1967D2;\n",
              "      --hover-bg-color: #E2EBFA;\n",
              "      --hover-fill-color: #174EA6;\n",
              "      --disabled-fill-color: #AAA;\n",
              "      --disabled-bg-color: #DDD;\n",
              "  }\n",
              "\n",
              "  [theme=dark] .colab-df-quickchart {\n",
              "      --bg-color: #3B4455;\n",
              "      --fill-color: #D2E3FC;\n",
              "      --hover-bg-color: #434B5C;\n",
              "      --hover-fill-color: #FFFFFF;\n",
              "      --disabled-bg-color: #3B4455;\n",
              "      --disabled-fill-color: #666;\n",
              "  }\n",
              "\n",
              "  .colab-df-quickchart {\n",
              "    background-color: var(--bg-color);\n",
              "    border: none;\n",
              "    border-radius: 50%;\n",
              "    cursor: pointer;\n",
              "    display: none;\n",
              "    fill: var(--fill-color);\n",
              "    height: 32px;\n",
              "    padding: 0;\n",
              "    width: 32px;\n",
              "  }\n",
              "\n",
              "  .colab-df-quickchart:hover {\n",
              "    background-color: var(--hover-bg-color);\n",
              "    box-shadow: 0 1px 2px rgba(60, 64, 67, 0.3), 0 1px 3px 1px rgba(60, 64, 67, 0.15);\n",
              "    fill: var(--button-hover-fill-color);\n",
              "  }\n",
              "\n",
              "  .colab-df-quickchart-complete:disabled,\n",
              "  .colab-df-quickchart-complete:disabled:hover {\n",
              "    background-color: var(--disabled-bg-color);\n",
              "    fill: var(--disabled-fill-color);\n",
              "    box-shadow: none;\n",
              "  }\n",
              "\n",
              "  .colab-df-spinner {\n",
              "    border: 2px solid var(--fill-color);\n",
              "    border-color: transparent;\n",
              "    border-bottom-color: var(--fill-color);\n",
              "    animation:\n",
              "      spin 1s steps(1) infinite;\n",
              "  }\n",
              "\n",
              "  @keyframes spin {\n",
              "    0% {\n",
              "      border-color: transparent;\n",
              "      border-bottom-color: var(--fill-color);\n",
              "      border-left-color: var(--fill-color);\n",
              "    }\n",
              "    20% {\n",
              "      border-color: transparent;\n",
              "      border-left-color: var(--fill-color);\n",
              "      border-top-color: var(--fill-color);\n",
              "    }\n",
              "    30% {\n",
              "      border-color: transparent;\n",
              "      border-left-color: var(--fill-color);\n",
              "      border-top-color: var(--fill-color);\n",
              "      border-right-color: var(--fill-color);\n",
              "    }\n",
              "    40% {\n",
              "      border-color: transparent;\n",
              "      border-right-color: var(--fill-color);\n",
              "      border-top-color: var(--fill-color);\n",
              "    }\n",
              "    60% {\n",
              "      border-color: transparent;\n",
              "      border-right-color: var(--fill-color);\n",
              "    }\n",
              "    80% {\n",
              "      border-color: transparent;\n",
              "      border-right-color: var(--fill-color);\n",
              "      border-bottom-color: var(--fill-color);\n",
              "    }\n",
              "    90% {\n",
              "      border-color: transparent;\n",
              "      border-bottom-color: var(--fill-color);\n",
              "    }\n",
              "  }\n",
              "</style>\n",
              "\n",
              "  <script>\n",
              "    async function quickchart(key) {\n",
              "      const quickchartButtonEl =\n",
              "        document.querySelector('#' + key + ' button');\n",
              "      quickchartButtonEl.disabled = true;  // To prevent multiple clicks.\n",
              "      quickchartButtonEl.classList.add('colab-df-spinner');\n",
              "      try {\n",
              "        const charts = await google.colab.kernel.invokeFunction(\n",
              "            'suggestCharts', [key], {});\n",
              "      } catch (error) {\n",
              "        console.error('Error during call to suggestCharts:', error);\n",
              "      }\n",
              "      quickchartButtonEl.classList.remove('colab-df-spinner');\n",
              "      quickchartButtonEl.classList.add('colab-df-quickchart-complete');\n",
              "    }\n",
              "    (() => {\n",
              "      let quickchartButtonEl =\n",
              "        document.querySelector('#df-2caa9d73-35ae-49ad-b2da-d861406990ff button');\n",
              "      quickchartButtonEl.style.display =\n",
              "        google.colab.kernel.accessAllowed ? 'block' : 'none';\n",
              "    })();\n",
              "  </script>\n",
              "</div>\n",
              "    </div>\n",
              "  </div>\n"
            ],
            "text/plain": [
              "   customer_id        customer_name    gender  age\n",
              "0            1        Leanna Busson    Female   30\n",
              "1            2  Zabrina Harrowsmith  Intersex   69\n",
              "2            3      Shina Dullaghan  Intersex   59\n",
              "3            4        Hewet McVitie  Intersex   67\n",
              "4            5       Rubia Ashleigh  Intersex   30\n",
              "5            6       Cordey Tolcher  Intersex   40\n",
              "6            7      Winslow Ewbanck  Intersex   76\n",
              "7            8         Marlowe Wynn  Intersex   75\n",
              "8            9    Brittaney Gontier      Male   51\n",
              "9           10    Susanetta Wilshin  Intersex   70"
            ]
          },
          "execution_count": 13,
          "metadata": {},
          "output_type": "execute_result"
        }
      ],
      "source": [
        "# Check gender list and convert all unwanted gender to 'Intersex'\n",
        "print(\"Gender list :\", custDf['gender'].unique())\n",
        "custDf.loc[~custDf['gender'].isin(['Male', 'Female']), 'gender'] = 'Intersex'\n",
        "custDf.head(10)"
      ]
    },
    {
      "cell_type": "markdown",
      "metadata": {
        "id": "S9VTDy2fWUHm"
      },
      "source": [
        "Data Cleaning for Products Dataset"
      ]
    },
    {
      "cell_type": "code",
      "execution_count": null,
      "metadata": {
        "colab": {
          "base_uri": "https://localhost:8080/"
        },
        "id": "SaTWJdvbWatN",
        "outputId": "337c2ece-6479-46df-f844-f098f00b644b"
      },
      "outputs": [
        {
          "name": "stdout",
          "output_type": "stream",
          "text": [
            "<class 'pandas.core.frame.DataFrame'>\n",
            "RangeIndex: 1260 entries, 0 to 1259\n",
            "Data columns (total 8 columns):\n",
            " #   Column        Non-Null Count  Dtype \n",
            "---  ------        --------------  ----- \n",
            " 0   product_ID    1260 non-null   int64 \n",
            " 1   product_type  1260 non-null   object\n",
            " 2   product_name  1260 non-null   object\n",
            " 3   size          1260 non-null   object\n",
            " 4   colour        1260 non-null   object\n",
            " 5   price         1260 non-null   int64 \n",
            " 6   quantity      1260 non-null   int64 \n",
            " 7   description   1260 non-null   object\n",
            "dtypes: int64(3), object(5)\n",
            "memory usage: 78.9+ KB\n"
          ]
        }
      ],
      "source": [
        "# Check prodDf information\n",
        "prodDf.info()"
      ]
    },
    {
      "cell_type": "code",
      "execution_count": null,
      "metadata": {
        "colab": {
          "base_uri": "https://localhost:8080/"
        },
        "id": "MsNJVuo5opnN",
        "outputId": "3927f07f-6226-4347-e178-9d1a97f0a184"
      },
      "outputs": [
        {
          "name": "stdout",
          "output_type": "stream",
          "text": [
            "<class 'pandas.core.frame.DataFrame'>\n",
            "RangeIndex: 1260 entries, 0 to 1259\n",
            "Data columns (total 8 columns):\n",
            " #   Column        Non-Null Count  Dtype \n",
            "---  ------        --------------  ----- \n",
            " 0   product_id    1260 non-null   int64 \n",
            " 1   product_type  1260 non-null   object\n",
            " 2   product_name  1260 non-null   object\n",
            " 3   size          1260 non-null   object\n",
            " 4   colour        1260 non-null   object\n",
            " 5   price         1260 non-null   int64 \n",
            " 6   quantity      1260 non-null   int64 \n",
            " 7   description   1260 non-null   object\n",
            "dtypes: int64(3), object(5)\n",
            "memory usage: 78.9+ KB\n"
          ]
        }
      ],
      "source": [
        "# Rename product_ID to product_id\n",
        "prodDf = prodDf.rename(columns={'product_ID': 'product_id'})\n",
        "prodDf.info()"
      ]
    },
    {
      "cell_type": "code",
      "execution_count": null,
      "metadata": {
        "colab": {
          "base_uri": "https://localhost:8080/"
        },
        "id": "21wwiiZabEtl",
        "outputId": "fccddcdb-6c90-4206-b30b-22895882a6d9"
      },
      "outputs": [
        {
          "data": {
            "text/plain": [
              "product_id      0\n",
              "product_type    0\n",
              "product_name    0\n",
              "size            0\n",
              "colour          0\n",
              "price           0\n",
              "quantity        0\n",
              "description     0\n",
              "dtype: int64"
            ]
          },
          "execution_count": 16,
          "metadata": {},
          "output_type": "execute_result"
        }
      ],
      "source": [
        "# Check Null\n",
        "prodDf.isnull().sum()"
      ]
    },
    {
      "cell_type": "code",
      "execution_count": null,
      "metadata": {
        "colab": {
          "base_uri": "https://localhost:8080/"
        },
        "id": "FjhIL5MvberG",
        "outputId": "5fa70c59-4892-40d9-ba48-f7cf45800193"
      },
      "outputs": [
        {
          "data": {
            "text/plain": [
              "product_id      0\n",
              "product_type    0\n",
              "product_name    0\n",
              "size            0\n",
              "colour          0\n",
              "price           0\n",
              "quantity        0\n",
              "description     0\n",
              "dtype: int64"
            ]
          },
          "execution_count": 17,
          "metadata": {},
          "output_type": "execute_result"
        }
      ],
      "source": [
        "# Check Na\n",
        "prodDf.isna().sum()"
      ]
    },
    {
      "cell_type": "code",
      "execution_count": null,
      "metadata": {
        "colab": {
          "base_uri": "https://localhost:8080/"
        },
        "id": "iDR1E--xbkad",
        "outputId": "90aa8dd8-74b7-41d8-b73a-a8fbf70605c3"
      },
      "outputs": [
        {
          "data": {
            "text/plain": [
              "0"
            ]
          },
          "execution_count": 18,
          "metadata": {},
          "output_type": "execute_result"
        }
      ],
      "source": [
        "# Check duplication\n",
        "prodDf.duplicated().sum()"
      ]
    },
    {
      "cell_type": "code",
      "execution_count": null,
      "metadata": {
        "colab": {
          "base_uri": "https://localhost:8080/",
          "height": 206
        },
        "id": "apRsue5ebp5e",
        "outputId": "4653ad0c-bb6b-42da-b537-492860618616"
      },
      "outputs": [
        {
          "data": {
            "text/html": [
              "\n",
              "  <div id=\"df-ab3fa3e2-25ec-4828-bc06-e1482b39ae1c\" class=\"colab-df-container\">\n",
              "    <div>\n",
              "<style scoped>\n",
              "    .dataframe tbody tr th:only-of-type {\n",
              "        vertical-align: middle;\n",
              "    }\n",
              "\n",
              "    .dataframe tbody tr th {\n",
              "        vertical-align: top;\n",
              "    }\n",
              "\n",
              "    .dataframe thead th {\n",
              "        text-align: right;\n",
              "    }\n",
              "</style>\n",
              "<table border=\"1\" class=\"dataframe\">\n",
              "  <thead>\n",
              "    <tr style=\"text-align: right;\">\n",
              "      <th></th>\n",
              "      <th>product_id</th>\n",
              "      <th>product_type</th>\n",
              "      <th>product_name</th>\n",
              "      <th>size</th>\n",
              "      <th>colour</th>\n",
              "      <th>price</th>\n",
              "      <th>quantity</th>\n",
              "      <th>description</th>\n",
              "    </tr>\n",
              "  </thead>\n",
              "  <tbody>\n",
              "    <tr>\n",
              "      <th>0</th>\n",
              "      <td>0</td>\n",
              "      <td>Shirt</td>\n",
              "      <td>Oxford Cloth</td>\n",
              "      <td>XS</td>\n",
              "      <td>red</td>\n",
              "      <td>114</td>\n",
              "      <td>66</td>\n",
              "      <td>A red coloured, XS sized, Oxford Cloth Shirt</td>\n",
              "    </tr>\n",
              "    <tr>\n",
              "      <th>1</th>\n",
              "      <td>1</td>\n",
              "      <td>Shirt</td>\n",
              "      <td>Oxford Cloth</td>\n",
              "      <td>S</td>\n",
              "      <td>red</td>\n",
              "      <td>114</td>\n",
              "      <td>53</td>\n",
              "      <td>A red coloured, S sized, Oxford Cloth Shirt</td>\n",
              "    </tr>\n",
              "    <tr>\n",
              "      <th>2</th>\n",
              "      <td>2</td>\n",
              "      <td>Shirt</td>\n",
              "      <td>Oxford Cloth</td>\n",
              "      <td>M</td>\n",
              "      <td>red</td>\n",
              "      <td>114</td>\n",
              "      <td>54</td>\n",
              "      <td>A red coloured, M sized, Oxford Cloth Shirt</td>\n",
              "    </tr>\n",
              "    <tr>\n",
              "      <th>3</th>\n",
              "      <td>3</td>\n",
              "      <td>Shirt</td>\n",
              "      <td>Oxford Cloth</td>\n",
              "      <td>L</td>\n",
              "      <td>red</td>\n",
              "      <td>114</td>\n",
              "      <td>69</td>\n",
              "      <td>A red coloured, L sized, Oxford Cloth Shirt</td>\n",
              "    </tr>\n",
              "    <tr>\n",
              "      <th>4</th>\n",
              "      <td>4</td>\n",
              "      <td>Shirt</td>\n",
              "      <td>Oxford Cloth</td>\n",
              "      <td>XL</td>\n",
              "      <td>red</td>\n",
              "      <td>114</td>\n",
              "      <td>47</td>\n",
              "      <td>A red coloured, XL sized, Oxford Cloth Shirt</td>\n",
              "    </tr>\n",
              "  </tbody>\n",
              "</table>\n",
              "</div>\n",
              "    <div class=\"colab-df-buttons\">\n",
              "\n",
              "  <div class=\"colab-df-container\">\n",
              "    <button class=\"colab-df-convert\" onclick=\"convertToInteractive('df-ab3fa3e2-25ec-4828-bc06-e1482b39ae1c')\"\n",
              "            title=\"Convert this dataframe to an interactive table.\"\n",
              "            style=\"display:none;\">\n",
              "\n",
              "  <svg xmlns=\"http://www.w3.org/2000/svg\" height=\"24px\" viewBox=\"0 -960 960 960\">\n",
              "    <path d=\"M120-120v-720h720v720H120Zm60-500h600v-160H180v160Zm220 220h160v-160H400v160Zm0 220h160v-160H400v160ZM180-400h160v-160H180v160Zm440 0h160v-160H620v160ZM180-180h160v-160H180v160Zm440 0h160v-160H620v160Z\"/>\n",
              "  </svg>\n",
              "    </button>\n",
              "\n",
              "  <style>\n",
              "    .colab-df-container {\n",
              "      display:flex;\n",
              "      gap: 12px;\n",
              "    }\n",
              "\n",
              "    .colab-df-convert {\n",
              "      background-color: #E8F0FE;\n",
              "      border: none;\n",
              "      border-radius: 50%;\n",
              "      cursor: pointer;\n",
              "      display: none;\n",
              "      fill: #1967D2;\n",
              "      height: 32px;\n",
              "      padding: 0 0 0 0;\n",
              "      width: 32px;\n",
              "    }\n",
              "\n",
              "    .colab-df-convert:hover {\n",
              "      background-color: #E2EBFA;\n",
              "      box-shadow: 0px 1px 2px rgba(60, 64, 67, 0.3), 0px 1px 3px 1px rgba(60, 64, 67, 0.15);\n",
              "      fill: #174EA6;\n",
              "    }\n",
              "\n",
              "    .colab-df-buttons div {\n",
              "      margin-bottom: 4px;\n",
              "    }\n",
              "\n",
              "    [theme=dark] .colab-df-convert {\n",
              "      background-color: #3B4455;\n",
              "      fill: #D2E3FC;\n",
              "    }\n",
              "\n",
              "    [theme=dark] .colab-df-convert:hover {\n",
              "      background-color: #434B5C;\n",
              "      box-shadow: 0px 1px 3px 1px rgba(0, 0, 0, 0.15);\n",
              "      filter: drop-shadow(0px 1px 2px rgba(0, 0, 0, 0.3));\n",
              "      fill: #FFFFFF;\n",
              "    }\n",
              "  </style>\n",
              "\n",
              "    <script>\n",
              "      const buttonEl =\n",
              "        document.querySelector('#df-ab3fa3e2-25ec-4828-bc06-e1482b39ae1c button.colab-df-convert');\n",
              "      buttonEl.style.display =\n",
              "        google.colab.kernel.accessAllowed ? 'block' : 'none';\n",
              "\n",
              "      async function convertToInteractive(key) {\n",
              "        const element = document.querySelector('#df-ab3fa3e2-25ec-4828-bc06-e1482b39ae1c');\n",
              "        const dataTable =\n",
              "          await google.colab.kernel.invokeFunction('convertToInteractive',\n",
              "                                                    [key], {});\n",
              "        if (!dataTable) return;\n",
              "\n",
              "        const docLinkHtml = 'Like what you see? Visit the ' +\n",
              "          '<a target=\"_blank\" href=https://colab.research.google.com/notebooks/data_table.ipynb>data table notebook</a>'\n",
              "          + ' to learn more about interactive tables.';\n",
              "        element.innerHTML = '';\n",
              "        dataTable['output_type'] = 'display_data';\n",
              "        await google.colab.output.renderOutput(dataTable, element);\n",
              "        const docLink = document.createElement('div');\n",
              "        docLink.innerHTML = docLinkHtml;\n",
              "        element.appendChild(docLink);\n",
              "      }\n",
              "    </script>\n",
              "  </div>\n",
              "\n",
              "\n",
              "<div id=\"df-bc9eb277-53e5-48a9-b2dd-60326a45db66\">\n",
              "  <button class=\"colab-df-quickchart\" onclick=\"quickchart('df-bc9eb277-53e5-48a9-b2dd-60326a45db66')\"\n",
              "            title=\"Suggest charts\"\n",
              "            style=\"display:none;\">\n",
              "\n",
              "<svg xmlns=\"http://www.w3.org/2000/svg\" height=\"24px\"viewBox=\"0 0 24 24\"\n",
              "     width=\"24px\">\n",
              "    <g>\n",
              "        <path d=\"M19 3H5c-1.1 0-2 .9-2 2v14c0 1.1.9 2 2 2h14c1.1 0 2-.9 2-2V5c0-1.1-.9-2-2-2zM9 17H7v-7h2v7zm4 0h-2V7h2v10zm4 0h-2v-4h2v4z\"/>\n",
              "    </g>\n",
              "</svg>\n",
              "  </button>\n",
              "\n",
              "<style>\n",
              "  .colab-df-quickchart {\n",
              "      --bg-color: #E8F0FE;\n",
              "      --fill-color: #1967D2;\n",
              "      --hover-bg-color: #E2EBFA;\n",
              "      --hover-fill-color: #174EA6;\n",
              "      --disabled-fill-color: #AAA;\n",
              "      --disabled-bg-color: #DDD;\n",
              "  }\n",
              "\n",
              "  [theme=dark] .colab-df-quickchart {\n",
              "      --bg-color: #3B4455;\n",
              "      --fill-color: #D2E3FC;\n",
              "      --hover-bg-color: #434B5C;\n",
              "      --hover-fill-color: #FFFFFF;\n",
              "      --disabled-bg-color: #3B4455;\n",
              "      --disabled-fill-color: #666;\n",
              "  }\n",
              "\n",
              "  .colab-df-quickchart {\n",
              "    background-color: var(--bg-color);\n",
              "    border: none;\n",
              "    border-radius: 50%;\n",
              "    cursor: pointer;\n",
              "    display: none;\n",
              "    fill: var(--fill-color);\n",
              "    height: 32px;\n",
              "    padding: 0;\n",
              "    width: 32px;\n",
              "  }\n",
              "\n",
              "  .colab-df-quickchart:hover {\n",
              "    background-color: var(--hover-bg-color);\n",
              "    box-shadow: 0 1px 2px rgba(60, 64, 67, 0.3), 0 1px 3px 1px rgba(60, 64, 67, 0.15);\n",
              "    fill: var(--button-hover-fill-color);\n",
              "  }\n",
              "\n",
              "  .colab-df-quickchart-complete:disabled,\n",
              "  .colab-df-quickchart-complete:disabled:hover {\n",
              "    background-color: var(--disabled-bg-color);\n",
              "    fill: var(--disabled-fill-color);\n",
              "    box-shadow: none;\n",
              "  }\n",
              "\n",
              "  .colab-df-spinner {\n",
              "    border: 2px solid var(--fill-color);\n",
              "    border-color: transparent;\n",
              "    border-bottom-color: var(--fill-color);\n",
              "    animation:\n",
              "      spin 1s steps(1) infinite;\n",
              "  }\n",
              "\n",
              "  @keyframes spin {\n",
              "    0% {\n",
              "      border-color: transparent;\n",
              "      border-bottom-color: var(--fill-color);\n",
              "      border-left-color: var(--fill-color);\n",
              "    }\n",
              "    20% {\n",
              "      border-color: transparent;\n",
              "      border-left-color: var(--fill-color);\n",
              "      border-top-color: var(--fill-color);\n",
              "    }\n",
              "    30% {\n",
              "      border-color: transparent;\n",
              "      border-left-color: var(--fill-color);\n",
              "      border-top-color: var(--fill-color);\n",
              "      border-right-color: var(--fill-color);\n",
              "    }\n",
              "    40% {\n",
              "      border-color: transparent;\n",
              "      border-right-color: var(--fill-color);\n",
              "      border-top-color: var(--fill-color);\n",
              "    }\n",
              "    60% {\n",
              "      border-color: transparent;\n",
              "      border-right-color: var(--fill-color);\n",
              "    }\n",
              "    80% {\n",
              "      border-color: transparent;\n",
              "      border-right-color: var(--fill-color);\n",
              "      border-bottom-color: var(--fill-color);\n",
              "    }\n",
              "    90% {\n",
              "      border-color: transparent;\n",
              "      border-bottom-color: var(--fill-color);\n",
              "    }\n",
              "  }\n",
              "</style>\n",
              "\n",
              "  <script>\n",
              "    async function quickchart(key) {\n",
              "      const quickchartButtonEl =\n",
              "        document.querySelector('#' + key + ' button');\n",
              "      quickchartButtonEl.disabled = true;  // To prevent multiple clicks.\n",
              "      quickchartButtonEl.classList.add('colab-df-spinner');\n",
              "      try {\n",
              "        const charts = await google.colab.kernel.invokeFunction(\n",
              "            'suggestCharts', [key], {});\n",
              "      } catch (error) {\n",
              "        console.error('Error during call to suggestCharts:', error);\n",
              "      }\n",
              "      quickchartButtonEl.classList.remove('colab-df-spinner');\n",
              "      quickchartButtonEl.classList.add('colab-df-quickchart-complete');\n",
              "    }\n",
              "    (() => {\n",
              "      let quickchartButtonEl =\n",
              "        document.querySelector('#df-bc9eb277-53e5-48a9-b2dd-60326a45db66 button');\n",
              "      quickchartButtonEl.style.display =\n",
              "        google.colab.kernel.accessAllowed ? 'block' : 'none';\n",
              "    })();\n",
              "  </script>\n",
              "</div>\n",
              "    </div>\n",
              "  </div>\n"
            ],
            "text/plain": [
              "   product_id product_type  product_name size colour  price  quantity  \\\n",
              "0           0        Shirt  Oxford Cloth   XS    red    114        66   \n",
              "1           1        Shirt  Oxford Cloth    S    red    114        53   \n",
              "2           2        Shirt  Oxford Cloth    M    red    114        54   \n",
              "3           3        Shirt  Oxford Cloth    L    red    114        69   \n",
              "4           4        Shirt  Oxford Cloth   XL    red    114        47   \n",
              "\n",
              "                                    description  \n",
              "0  A red coloured, XS sized, Oxford Cloth Shirt  \n",
              "1   A red coloured, S sized, Oxford Cloth Shirt  \n",
              "2   A red coloured, M sized, Oxford Cloth Shirt  \n",
              "3   A red coloured, L sized, Oxford Cloth Shirt  \n",
              "4  A red coloured, XL sized, Oxford Cloth Shirt  "
            ]
          },
          "execution_count": 19,
          "metadata": {},
          "output_type": "execute_result"
        }
      ],
      "source": [
        "prodDf.head()"
      ]
    },
    {
      "cell_type": "code",
      "execution_count": null,
      "metadata": {
        "colab": {
          "base_uri": "https://localhost:8080/"
        },
        "id": "iDT9o4S4bqBl",
        "outputId": "ae32aeca-ea72-4a2b-a4c4-5577d8e004e7"
      },
      "outputs": [
        {
          "data": {
            "text/plain": [
              "mean    105.805556\n",
              "max     119.000000\n",
              "min      90.000000\n",
              "std       9.704423\n",
              "Name: price, dtype: float64"
            ]
          },
          "execution_count": 20,
          "metadata": {},
          "output_type": "execute_result"
        }
      ],
      "source": [
        "# Check anomaly on price column\n",
        "prodDesc = prodDf.select_dtypes(include=np.number)\n",
        "prodDesc['price'].agg(['mean', 'max', 'min', 'std'])"
      ]
    },
    {
      "cell_type": "code",
      "execution_count": null,
      "metadata": {
        "colab": {
          "base_uri": "https://localhost:8080/"
        },
        "id": "6REuVsztgXl0",
        "outputId": "f5e4e43a-ba07-442b-89c7-473893abbd8d"
      },
      "outputs": [
        {
          "data": {
            "text/plain": [
              "mean    60.150000\n",
              "max     80.000000\n",
              "min     40.000000\n",
              "std     11.670573\n",
              "Name: quantity, dtype: float64"
            ]
          },
          "execution_count": 21,
          "metadata": {},
          "output_type": "execute_result"
        }
      ],
      "source": [
        "# Check anomaly on quantity column\n",
        "prodDesc = prodDf.select_dtypes(include=np.number)\n",
        "prodDesc['quantity'].agg(['mean', 'max', 'min', 'std'])"
      ]
    },
    {
      "cell_type": "code",
      "execution_count": null,
      "metadata": {
        "colab": {
          "base_uri": "https://localhost:8080/"
        },
        "id": "_KundTp9gra0",
        "outputId": "7bb77ff5-8e1d-4c77-a95e-02d8bb75594f"
      },
      "outputs": [
        {
          "name": "stdout",
          "output_type": "stream",
          "text": [
            "Colour list : ['red' 'orange' 'yellow' 'green' 'blue' 'indigo' 'violet']\n"
          ]
        }
      ],
      "source": [
        "# Check type of colour\n",
        "print(\"Colour list :\", prodDf['colour'].unique())"
      ]
    },
    {
      "cell_type": "code",
      "execution_count": null,
      "metadata": {
        "colab": {
          "base_uri": "https://localhost:8080/"
        },
        "id": "GOGW7vNPg0Uj",
        "outputId": "516ae016-2f43-4888-ab57-d9edc2c370c8"
      },
      "outputs": [
        {
          "name": "stdout",
          "output_type": "stream",
          "text": [
            "Size list : ['XS' 'S' 'M' 'L' 'XL']\n"
          ]
        }
      ],
      "source": [
        "# Check type of size\n",
        "print(\"Size list :\", prodDf['size'].unique())"
      ]
    },
    {
      "cell_type": "code",
      "execution_count": null,
      "metadata": {
        "colab": {
          "base_uri": "https://localhost:8080/"
        },
        "id": "oi1_QSH2g5B1",
        "outputId": "49c18fb5-183f-4879-af7f-05ab8e0f280e"
      },
      "outputs": [
        {
          "name": "stdout",
          "output_type": "stream",
          "text": [
            "Product type list : ['Shirt' 'Jacket' 'Trousers']\n"
          ]
        }
      ],
      "source": [
        "# Check type of product\n",
        "print(\"Product type list :\", prodDf['product_type'].unique())"
      ]
    },
    {
      "cell_type": "markdown",
      "metadata": {
        "id": "_PLrtJcVh7J2"
      },
      "source": [
        "Data Cleaning for Orders Dataset"
      ]
    },
    {
      "cell_type": "code",
      "execution_count": null,
      "metadata": {
        "colab": {
          "base_uri": "https://localhost:8080/"
        },
        "id": "xXN3s6HAiAh1",
        "outputId": "3bdfa98f-35ab-4031-cb9b-7a686eb17fc9"
      },
      "outputs": [
        {
          "name": "stdout",
          "output_type": "stream",
          "text": [
            "<class 'pandas.core.frame.DataFrame'>\n",
            "RangeIndex: 1000 entries, 0 to 999\n",
            "Data columns (total 5 columns):\n",
            " #   Column         Non-Null Count  Dtype \n",
            "---  ------         --------------  ----- \n",
            " 0   order_id       1000 non-null   int64 \n",
            " 1   customer_id    1000 non-null   int64 \n",
            " 2   payment        1000 non-null   int64 \n",
            " 3   order_date     1000 non-null   object\n",
            " 4   delivery_date  1000 non-null   object\n",
            "dtypes: int64(3), object(2)\n",
            "memory usage: 39.2+ KB\n"
          ]
        }
      ],
      "source": [
        "# Check orderDf information\n",
        "orderDf.info()"
      ]
    },
    {
      "cell_type": "code",
      "execution_count": null,
      "metadata": {
        "colab": {
          "base_uri": "https://localhost:8080/"
        },
        "id": "DAlj2HrWiP18",
        "outputId": "de8e4960-d64f-4535-d64e-1dcf94f9855f"
      },
      "outputs": [
        {
          "name": "stdout",
          "output_type": "stream",
          "text": [
            "<class 'pandas.core.frame.DataFrame'>\n",
            "RangeIndex: 1000 entries, 0 to 999\n",
            "Data columns (total 5 columns):\n",
            " #   Column         Non-Null Count  Dtype         \n",
            "---  ------         --------------  -----         \n",
            " 0   order_id       1000 non-null   int64         \n",
            " 1   customer_id    1000 non-null   int64         \n",
            " 2   payment        1000 non-null   int64         \n",
            " 3   order_date     1000 non-null   datetime64[ns]\n",
            " 4   delivery_date  1000 non-null   datetime64[ns]\n",
            "dtypes: datetime64[ns](2), int64(3)\n",
            "memory usage: 39.2 KB\n"
          ]
        }
      ],
      "source": [
        "# Convert order_date and delivery_date datatype to datetime\n",
        "orderDf[\"order_date\"] = pd.to_datetime(orderDf[\"order_date\"])\n",
        "orderDf[\"delivery_date\"] = pd.to_datetime(orderDf[\"delivery_date\"])\n",
        "orderDf.info()"
      ]
    },
    {
      "cell_type": "code",
      "execution_count": null,
      "metadata": {
        "colab": {
          "base_uri": "https://localhost:8080/"
        },
        "id": "t298SHiUinoM",
        "outputId": "1dce9052-d236-4e14-b4c7-0ba574a80471"
      },
      "outputs": [
        {
          "data": {
            "text/plain": [
              "order_id         0\n",
              "customer_id      0\n",
              "payment          0\n",
              "order_date       0\n",
              "delivery_date    0\n",
              "dtype: int64"
            ]
          },
          "execution_count": 27,
          "metadata": {},
          "output_type": "execute_result"
        }
      ],
      "source": [
        "# Check Na\n",
        "orderDf.isna().sum()"
      ]
    },
    {
      "cell_type": "code",
      "execution_count": null,
      "metadata": {
        "colab": {
          "base_uri": "https://localhost:8080/"
        },
        "id": "bbLjgVrjitTj",
        "outputId": "6335674d-77fb-4728-f2c2-e4a666b609af"
      },
      "outputs": [
        {
          "data": {
            "text/plain": [
              "order_id         0\n",
              "customer_id      0\n",
              "payment          0\n",
              "order_date       0\n",
              "delivery_date    0\n",
              "dtype: int64"
            ]
          },
          "execution_count": 28,
          "metadata": {},
          "output_type": "execute_result"
        }
      ],
      "source": [
        "# Check Na\n",
        "orderDf.isna().sum()"
      ]
    },
    {
      "cell_type": "code",
      "execution_count": null,
      "metadata": {
        "colab": {
          "base_uri": "https://localhost:8080/"
        },
        "id": "W_9MPf0tixDd",
        "outputId": "af26d9b4-1d97-4eb9-8332-f73ab441b663"
      },
      "outputs": [
        {
          "data": {
            "text/plain": [
              "0"
            ]
          },
          "execution_count": 29,
          "metadata": {},
          "output_type": "execute_result"
        }
      ],
      "source": [
        "# Check duplicate\n",
        "orderDf.duplicated().sum()"
      ]
    },
    {
      "cell_type": "code",
      "execution_count": null,
      "metadata": {
        "colab": {
          "base_uri": "https://localhost:8080/"
        },
        "id": "uSNalk_Ri7Z1",
        "outputId": "c2711647-10ca-44d7-f0e9-c866772fcdae"
      },
      "outputs": [
        {
          "data": {
            "text/plain": [
              "mean    33972.936000\n",
              "max     59910.000000\n",
              "min     10043.000000\n",
              "std     14451.609047\n",
              "Name: payment, dtype: float64"
            ]
          },
          "execution_count": 30,
          "metadata": {},
          "output_type": "execute_result"
        }
      ],
      "source": [
        "# Check anomaly on payment column\n",
        "orderDesc = orderDf.select_dtypes(include=np.number)\n",
        "orderDesc['payment'].agg(['mean', 'max', 'min', 'std'])"
      ]
    },
    {
      "cell_type": "code",
      "execution_count": null,
      "metadata": {
        "colab": {
          "base_uri": "https://localhost:8080/"
        },
        "id": "BdnojUMunstG",
        "outputId": "3e33ded4-2988-43c0-86e6-656ae6425341"
      },
      "outputs": [
        {
          "name": "stdout",
          "output_type": "stream",
          "text": [
            "<class 'pandas.core.frame.DataFrame'>\n",
            "RangeIndex: 1000 entries, 0 to 999\n",
            "Data columns (total 5 columns):\n",
            " #   Column         Non-Null Count  Dtype         \n",
            "---  ------         --------------  -----         \n",
            " 0   order_id       1000 non-null   int64         \n",
            " 1   customer_id    1000 non-null   int64         \n",
            " 2   payment        1000 non-null   int64         \n",
            " 3   order_date     1000 non-null   datetime64[ns]\n",
            " 4   delivery_date  1000 non-null   datetime64[ns]\n",
            "dtypes: datetime64[ns](2), int64(3)\n",
            "memory usage: 39.2 KB\n"
          ]
        }
      ],
      "source": [
        "orderDf.info()"
      ]
    },
    {
      "cell_type": "markdown",
      "metadata": {
        "id": "8AlMk98CpA2Q"
      },
      "source": [
        "Data Cleaning for Sales Dataset"
      ]
    },
    {
      "cell_type": "code",
      "execution_count": null,
      "metadata": {
        "colab": {
          "base_uri": "https://localhost:8080/"
        },
        "id": "0gbW-gJkpDcL",
        "outputId": "5fe4a614-3df8-4dda-b304-a3083373f510"
      },
      "outputs": [
        {
          "name": "stdout",
          "output_type": "stream",
          "text": [
            "<class 'pandas.core.frame.DataFrame'>\n",
            "RangeIndex: 5000 entries, 0 to 4999\n",
            "Data columns (total 6 columns):\n",
            " #   Column          Non-Null Count  Dtype\n",
            "---  ------          --------------  -----\n",
            " 0   sales_id        5000 non-null   int64\n",
            " 1   order_id        5000 non-null   int64\n",
            " 2   product_id      5000 non-null   int64\n",
            " 3   price_per_unit  5000 non-null   int64\n",
            " 4   quantity        5000 non-null   int64\n",
            " 5   total_price     5000 non-null   int64\n",
            "dtypes: int64(6)\n",
            "memory usage: 234.5 KB\n"
          ]
        }
      ],
      "source": [
        "# Check salesDf information\n",
        "salesDf.info()"
      ]
    },
    {
      "cell_type": "code",
      "execution_count": null,
      "metadata": {
        "colab": {
          "base_uri": "https://localhost:8080/"
        },
        "id": "eyT0L1J1pPAz",
        "outputId": "c8ff7d27-efc7-4391-e858-c264f9ba71ea"
      },
      "outputs": [
        {
          "data": {
            "text/plain": [
              "sales_id          0\n",
              "order_id          0\n",
              "product_id        0\n",
              "price_per_unit    0\n",
              "quantity          0\n",
              "total_price       0\n",
              "dtype: int64"
            ]
          },
          "execution_count": 33,
          "metadata": {},
          "output_type": "execute_result"
        }
      ],
      "source": [
        "# Check Na\n",
        "salesDf.isna().sum()"
      ]
    },
    {
      "cell_type": "code",
      "execution_count": null,
      "metadata": {
        "colab": {
          "base_uri": "https://localhost:8080/"
        },
        "id": "B8pB1T-2pQLF",
        "outputId": "b9c7affc-db65-48dc-9fee-dbfdb194db6c"
      },
      "outputs": [
        {
          "data": {
            "text/plain": [
              "sales_id          0\n",
              "order_id          0\n",
              "product_id        0\n",
              "price_per_unit    0\n",
              "quantity          0\n",
              "total_price       0\n",
              "dtype: int64"
            ]
          },
          "execution_count": 34,
          "metadata": {},
          "output_type": "execute_result"
        }
      ],
      "source": [
        "# Check Na\n",
        "salesDf.isna().sum()"
      ]
    },
    {
      "cell_type": "code",
      "execution_count": null,
      "metadata": {
        "colab": {
          "base_uri": "https://localhost:8080/"
        },
        "id": "XFtvrB_0pRsV",
        "outputId": "2fddc338-d6a1-4006-a8b5-9172308e9465"
      },
      "outputs": [
        {
          "data": {
            "text/plain": [
              "0"
            ]
          },
          "execution_count": 35,
          "metadata": {},
          "output_type": "execute_result"
        }
      ],
      "source": [
        "# Check duplicate\n",
        "salesDf.duplicated().sum()"
      ]
    },
    {
      "cell_type": "code",
      "execution_count": null,
      "metadata": {
        "colab": {
          "base_uri": "https://localhost:8080/"
        },
        "id": "oPI957s-pYD0",
        "outputId": "81d92d80-b054-4972-a5b8-576bcf7bd2ec"
      },
      "outputs": [
        {
          "data": {
            "text/plain": [
              "mean    103.501600\n",
              "max     119.000000\n",
              "min      90.000000\n",
              "std       9.195004\n",
              "Name: price_per_unit, dtype: float64"
            ]
          },
          "execution_count": 36,
          "metadata": {},
          "output_type": "execute_result"
        }
      ],
      "source": [
        "# Check anomaly on price_per_unit column\n",
        "salesDesc = salesDf.select_dtypes(include=np.number)\n",
        "salesDesc['price_per_unit'].agg(['mean', 'max', 'min', 'std'])"
      ]
    },
    {
      "cell_type": "code",
      "execution_count": null,
      "metadata": {
        "colab": {
          "base_uri": "https://localhost:8080/"
        },
        "id": "0axuAAbzpjtV",
        "outputId": "23fd9202-3d41-475f-e06f-3643170d6089"
      },
      "outputs": [
        {
          "data": {
            "text/plain": [
              "mean    1.99240\n",
              "max     3.00000\n",
              "min     1.00000\n",
              "std     0.80751\n",
              "Name: quantity, dtype: float64"
            ]
          },
          "execution_count": 37,
          "metadata": {},
          "output_type": "execute_result"
        }
      ],
      "source": [
        "# Check anomaly on quantity column\n",
        "salesDesc = salesDf.select_dtypes(include=np.number)\n",
        "salesDesc['quantity'].agg(['mean', 'max', 'min', 'std'])"
      ]
    },
    {
      "cell_type": "code",
      "execution_count": null,
      "metadata": {
        "colab": {
          "base_uri": "https://localhost:8080/"
        },
        "id": "4marjuLwpq6T",
        "outputId": "2ff4ea0e-8cd0-4390-df43-65bfb5157e88"
      },
      "outputs": [
        {
          "name": "stdout",
          "output_type": "stream",
          "text": [
            "The 'total_price' column is correct.\n"
          ]
        }
      ],
      "source": [
        "# Check whether total_price are already corrected or not\n",
        "salesDf['calculated_total_price'] = salesDf['price_per_unit'] * salesDf['quantity']\n",
        "\n",
        "is_correct = (salesDf['total_price'] == salesDf['calculated_total_price']).all()\n",
        "\n",
        "if is_correct:\n",
        "    print(\"The 'total_price' column is correct.\")\n",
        "else:\n",
        "    print(\"There are inconsistencies in the 'total_price' column.\")\n",
        "    mismatched_rows = salesDf[salesDf['total_price'] != salesDf['calculated_total_price']]\n",
        "    print(\"Mismatched Rows:\")\n",
        "    print(mismatched_rows)\n",
        "\n",
        "salesDf.drop('calculated_total_price', axis=1, inplace=True)"
      ]
    },
    {
      "cell_type": "code",
      "execution_count": null,
      "metadata": {
        "colab": {
          "base_uri": "https://localhost:8080/"
        },
        "id": "lYuR7F-sredx",
        "outputId": "8bbff367-e8f5-4fee-fe77-9c74fe4545ef"
      },
      "outputs": [
        {
          "name": "stdout",
          "output_type": "stream",
          "text": [
            "<class 'pandas.core.frame.DataFrame'>\n",
            "RangeIndex: 5000 entries, 0 to 4999\n",
            "Data columns (total 6 columns):\n",
            " #   Column          Non-Null Count  Dtype\n",
            "---  ------          --------------  -----\n",
            " 0   sales_id        5000 non-null   int64\n",
            " 1   order_id        5000 non-null   int64\n",
            " 2   product_id      5000 non-null   int64\n",
            " 3   price_per_unit  5000 non-null   int64\n",
            " 4   quantity        5000 non-null   int64\n",
            " 5   total_price     5000 non-null   int64\n",
            "dtypes: int64(6)\n",
            "memory usage: 234.5 KB\n"
          ]
        }
      ],
      "source": [
        "salesDf.info()"
      ]
    },
    {
      "cell_type": "markdown",
      "metadata": {
        "id": "pyYJAbMqmWaK"
      },
      "source": [
        "Check price synchronization"
      ]
    },
    {
      "cell_type": "code",
      "execution_count": null,
      "metadata": {
        "colab": {
          "base_uri": "https://localhost:8080/",
          "height": 206
        },
        "id": "A9Wa4Q0hmr8g",
        "outputId": "23c95763-427e-420f-d5e9-db39343da862"
      },
      "outputs": [
        {
          "data": {
            "text/html": [
              "\n",
              "  <div id=\"df-1cfb08ae-8cab-4dc0-ace9-e74105854f93\" class=\"colab-df-container\">\n",
              "    <div>\n",
              "<style scoped>\n",
              "    .dataframe tbody tr th:only-of-type {\n",
              "        vertical-align: middle;\n",
              "    }\n",
              "\n",
              "    .dataframe tbody tr th {\n",
              "        vertical-align: top;\n",
              "    }\n",
              "\n",
              "    .dataframe thead th {\n",
              "        text-align: right;\n",
              "    }\n",
              "</style>\n",
              "<table border=\"1\" class=\"dataframe\">\n",
              "  <thead>\n",
              "    <tr style=\"text-align: right;\">\n",
              "      <th></th>\n",
              "      <th>sales_id</th>\n",
              "      <th>order_id</th>\n",
              "      <th>product_id</th>\n",
              "      <th>price_per_unit</th>\n",
              "      <th>quantity_x</th>\n",
              "      <th>total_price</th>\n",
              "      <th>product_type</th>\n",
              "      <th>product_name</th>\n",
              "      <th>size</th>\n",
              "      <th>colour</th>\n",
              "      <th>price</th>\n",
              "      <th>quantity_y</th>\n",
              "      <th>description</th>\n",
              "    </tr>\n",
              "  </thead>\n",
              "  <tbody>\n",
              "    <tr>\n",
              "      <th>0</th>\n",
              "      <td>0</td>\n",
              "      <td>1</td>\n",
              "      <td>218</td>\n",
              "      <td>106</td>\n",
              "      <td>2</td>\n",
              "      <td>212</td>\n",
              "      <td>Shirt</td>\n",
              "      <td>Chambray</td>\n",
              "      <td>L</td>\n",
              "      <td>orange</td>\n",
              "      <td>105</td>\n",
              "      <td>44</td>\n",
              "      <td>A orange coloured, L sized, Chambray Shirt</td>\n",
              "    </tr>\n",
              "    <tr>\n",
              "      <th>1</th>\n",
              "      <td>1129</td>\n",
              "      <td>233</td>\n",
              "      <td>218</td>\n",
              "      <td>106</td>\n",
              "      <td>3</td>\n",
              "      <td>318</td>\n",
              "      <td>Shirt</td>\n",
              "      <td>Chambray</td>\n",
              "      <td>L</td>\n",
              "      <td>orange</td>\n",
              "      <td>105</td>\n",
              "      <td>44</td>\n",
              "      <td>A orange coloured, L sized, Chambray Shirt</td>\n",
              "    </tr>\n",
              "    <tr>\n",
              "      <th>2</th>\n",
              "      <td>4616</td>\n",
              "      <td>924</td>\n",
              "      <td>218</td>\n",
              "      <td>106</td>\n",
              "      <td>2</td>\n",
              "      <td>212</td>\n",
              "      <td>Shirt</td>\n",
              "      <td>Chambray</td>\n",
              "      <td>L</td>\n",
              "      <td>orange</td>\n",
              "      <td>105</td>\n",
              "      <td>44</td>\n",
              "      <td>A orange coloured, L sized, Chambray Shirt</td>\n",
              "    </tr>\n",
              "    <tr>\n",
              "      <th>3</th>\n",
              "      <td>1</td>\n",
              "      <td>1</td>\n",
              "      <td>481</td>\n",
              "      <td>118</td>\n",
              "      <td>1</td>\n",
              "      <td>118</td>\n",
              "      <td>Jacket</td>\n",
              "      <td>Puffer</td>\n",
              "      <td>S</td>\n",
              "      <td>indigo</td>\n",
              "      <td>110</td>\n",
              "      <td>62</td>\n",
              "      <td>A indigo coloured, S sized, Puffer Jacket</td>\n",
              "    </tr>\n",
              "    <tr>\n",
              "      <th>4</th>\n",
              "      <td>349</td>\n",
              "      <td>79</td>\n",
              "      <td>481</td>\n",
              "      <td>118</td>\n",
              "      <td>2</td>\n",
              "      <td>236</td>\n",
              "      <td>Jacket</td>\n",
              "      <td>Puffer</td>\n",
              "      <td>S</td>\n",
              "      <td>indigo</td>\n",
              "      <td>110</td>\n",
              "      <td>62</td>\n",
              "      <td>A indigo coloured, S sized, Puffer Jacket</td>\n",
              "    </tr>\n",
              "  </tbody>\n",
              "</table>\n",
              "</div>\n",
              "    <div class=\"colab-df-buttons\">\n",
              "\n",
              "  <div class=\"colab-df-container\">\n",
              "    <button class=\"colab-df-convert\" onclick=\"convertToInteractive('df-1cfb08ae-8cab-4dc0-ace9-e74105854f93')\"\n",
              "            title=\"Convert this dataframe to an interactive table.\"\n",
              "            style=\"display:none;\">\n",
              "\n",
              "  <svg xmlns=\"http://www.w3.org/2000/svg\" height=\"24px\" viewBox=\"0 -960 960 960\">\n",
              "    <path d=\"M120-120v-720h720v720H120Zm60-500h600v-160H180v160Zm220 220h160v-160H400v160Zm0 220h160v-160H400v160ZM180-400h160v-160H180v160Zm440 0h160v-160H620v160ZM180-180h160v-160H180v160Zm440 0h160v-160H620v160Z\"/>\n",
              "  </svg>\n",
              "    </button>\n",
              "\n",
              "  <style>\n",
              "    .colab-df-container {\n",
              "      display:flex;\n",
              "      gap: 12px;\n",
              "    }\n",
              "\n",
              "    .colab-df-convert {\n",
              "      background-color: #E8F0FE;\n",
              "      border: none;\n",
              "      border-radius: 50%;\n",
              "      cursor: pointer;\n",
              "      display: none;\n",
              "      fill: #1967D2;\n",
              "      height: 32px;\n",
              "      padding: 0 0 0 0;\n",
              "      width: 32px;\n",
              "    }\n",
              "\n",
              "    .colab-df-convert:hover {\n",
              "      background-color: #E2EBFA;\n",
              "      box-shadow: 0px 1px 2px rgba(60, 64, 67, 0.3), 0px 1px 3px 1px rgba(60, 64, 67, 0.15);\n",
              "      fill: #174EA6;\n",
              "    }\n",
              "\n",
              "    .colab-df-buttons div {\n",
              "      margin-bottom: 4px;\n",
              "    }\n",
              "\n",
              "    [theme=dark] .colab-df-convert {\n",
              "      background-color: #3B4455;\n",
              "      fill: #D2E3FC;\n",
              "    }\n",
              "\n",
              "    [theme=dark] .colab-df-convert:hover {\n",
              "      background-color: #434B5C;\n",
              "      box-shadow: 0px 1px 3px 1px rgba(0, 0, 0, 0.15);\n",
              "      filter: drop-shadow(0px 1px 2px rgba(0, 0, 0, 0.3));\n",
              "      fill: #FFFFFF;\n",
              "    }\n",
              "  </style>\n",
              "\n",
              "    <script>\n",
              "      const buttonEl =\n",
              "        document.querySelector('#df-1cfb08ae-8cab-4dc0-ace9-e74105854f93 button.colab-df-convert');\n",
              "      buttonEl.style.display =\n",
              "        google.colab.kernel.accessAllowed ? 'block' : 'none';\n",
              "\n",
              "      async function convertToInteractive(key) {\n",
              "        const element = document.querySelector('#df-1cfb08ae-8cab-4dc0-ace9-e74105854f93');\n",
              "        const dataTable =\n",
              "          await google.colab.kernel.invokeFunction('convertToInteractive',\n",
              "                                                    [key], {});\n",
              "        if (!dataTable) return;\n",
              "\n",
              "        const docLinkHtml = 'Like what you see? Visit the ' +\n",
              "          '<a target=\"_blank\" href=https://colab.research.google.com/notebooks/data_table.ipynb>data table notebook</a>'\n",
              "          + ' to learn more about interactive tables.';\n",
              "        element.innerHTML = '';\n",
              "        dataTable['output_type'] = 'display_data';\n",
              "        await google.colab.output.renderOutput(dataTable, element);\n",
              "        const docLink = document.createElement('div');\n",
              "        docLink.innerHTML = docLinkHtml;\n",
              "        element.appendChild(docLink);\n",
              "      }\n",
              "    </script>\n",
              "  </div>\n",
              "\n",
              "\n",
              "<div id=\"df-9f970f6b-d40e-45f0-bc28-908ed043f377\">\n",
              "  <button class=\"colab-df-quickchart\" onclick=\"quickchart('df-9f970f6b-d40e-45f0-bc28-908ed043f377')\"\n",
              "            title=\"Suggest charts\"\n",
              "            style=\"display:none;\">\n",
              "\n",
              "<svg xmlns=\"http://www.w3.org/2000/svg\" height=\"24px\"viewBox=\"0 0 24 24\"\n",
              "     width=\"24px\">\n",
              "    <g>\n",
              "        <path d=\"M19 3H5c-1.1 0-2 .9-2 2v14c0 1.1.9 2 2 2h14c1.1 0 2-.9 2-2V5c0-1.1-.9-2-2-2zM9 17H7v-7h2v7zm4 0h-2V7h2v10zm4 0h-2v-4h2v4z\"/>\n",
              "    </g>\n",
              "</svg>\n",
              "  </button>\n",
              "\n",
              "<style>\n",
              "  .colab-df-quickchart {\n",
              "      --bg-color: #E8F0FE;\n",
              "      --fill-color: #1967D2;\n",
              "      --hover-bg-color: #E2EBFA;\n",
              "      --hover-fill-color: #174EA6;\n",
              "      --disabled-fill-color: #AAA;\n",
              "      --disabled-bg-color: #DDD;\n",
              "  }\n",
              "\n",
              "  [theme=dark] .colab-df-quickchart {\n",
              "      --bg-color: #3B4455;\n",
              "      --fill-color: #D2E3FC;\n",
              "      --hover-bg-color: #434B5C;\n",
              "      --hover-fill-color: #FFFFFF;\n",
              "      --disabled-bg-color: #3B4455;\n",
              "      --disabled-fill-color: #666;\n",
              "  }\n",
              "\n",
              "  .colab-df-quickchart {\n",
              "    background-color: var(--bg-color);\n",
              "    border: none;\n",
              "    border-radius: 50%;\n",
              "    cursor: pointer;\n",
              "    display: none;\n",
              "    fill: var(--fill-color);\n",
              "    height: 32px;\n",
              "    padding: 0;\n",
              "    width: 32px;\n",
              "  }\n",
              "\n",
              "  .colab-df-quickchart:hover {\n",
              "    background-color: var(--hover-bg-color);\n",
              "    box-shadow: 0 1px 2px rgba(60, 64, 67, 0.3), 0 1px 3px 1px rgba(60, 64, 67, 0.15);\n",
              "    fill: var(--button-hover-fill-color);\n",
              "  }\n",
              "\n",
              "  .colab-df-quickchart-complete:disabled,\n",
              "  .colab-df-quickchart-complete:disabled:hover {\n",
              "    background-color: var(--disabled-bg-color);\n",
              "    fill: var(--disabled-fill-color);\n",
              "    box-shadow: none;\n",
              "  }\n",
              "\n",
              "  .colab-df-spinner {\n",
              "    border: 2px solid var(--fill-color);\n",
              "    border-color: transparent;\n",
              "    border-bottom-color: var(--fill-color);\n",
              "    animation:\n",
              "      spin 1s steps(1) infinite;\n",
              "  }\n",
              "\n",
              "  @keyframes spin {\n",
              "    0% {\n",
              "      border-color: transparent;\n",
              "      border-bottom-color: var(--fill-color);\n",
              "      border-left-color: var(--fill-color);\n",
              "    }\n",
              "    20% {\n",
              "      border-color: transparent;\n",
              "      border-left-color: var(--fill-color);\n",
              "      border-top-color: var(--fill-color);\n",
              "    }\n",
              "    30% {\n",
              "      border-color: transparent;\n",
              "      border-left-color: var(--fill-color);\n",
              "      border-top-color: var(--fill-color);\n",
              "      border-right-color: var(--fill-color);\n",
              "    }\n",
              "    40% {\n",
              "      border-color: transparent;\n",
              "      border-right-color: var(--fill-color);\n",
              "      border-top-color: var(--fill-color);\n",
              "    }\n",
              "    60% {\n",
              "      border-color: transparent;\n",
              "      border-right-color: var(--fill-color);\n",
              "    }\n",
              "    80% {\n",
              "      border-color: transparent;\n",
              "      border-right-color: var(--fill-color);\n",
              "      border-bottom-color: var(--fill-color);\n",
              "    }\n",
              "    90% {\n",
              "      border-color: transparent;\n",
              "      border-bottom-color: var(--fill-color);\n",
              "    }\n",
              "  }\n",
              "</style>\n",
              "\n",
              "  <script>\n",
              "    async function quickchart(key) {\n",
              "      const quickchartButtonEl =\n",
              "        document.querySelector('#' + key + ' button');\n",
              "      quickchartButtonEl.disabled = true;  // To prevent multiple clicks.\n",
              "      quickchartButtonEl.classList.add('colab-df-spinner');\n",
              "      try {\n",
              "        const charts = await google.colab.kernel.invokeFunction(\n",
              "            'suggestCharts', [key], {});\n",
              "      } catch (error) {\n",
              "        console.error('Error during call to suggestCharts:', error);\n",
              "      }\n",
              "      quickchartButtonEl.classList.remove('colab-df-spinner');\n",
              "      quickchartButtonEl.classList.add('colab-df-quickchart-complete');\n",
              "    }\n",
              "    (() => {\n",
              "      let quickchartButtonEl =\n",
              "        document.querySelector('#df-9f970f6b-d40e-45f0-bc28-908ed043f377 button');\n",
              "      quickchartButtonEl.style.display =\n",
              "        google.colab.kernel.accessAllowed ? 'block' : 'none';\n",
              "    })();\n",
              "  </script>\n",
              "</div>\n",
              "    </div>\n",
              "  </div>\n"
            ],
            "text/plain": [
              "   sales_id  order_id  product_id  price_per_unit  quantity_x  total_price  \\\n",
              "0         0         1         218             106           2          212   \n",
              "1      1129       233         218             106           3          318   \n",
              "2      4616       924         218             106           2          212   \n",
              "3         1         1         481             118           1          118   \n",
              "4       349        79         481             118           2          236   \n",
              "\n",
              "  product_type product_name size  colour  price  quantity_y  \\\n",
              "0        Shirt     Chambray    L  orange    105          44   \n",
              "1        Shirt     Chambray    L  orange    105          44   \n",
              "2        Shirt     Chambray    L  orange    105          44   \n",
              "3       Jacket       Puffer    S  indigo    110          62   \n",
              "4       Jacket       Puffer    S  indigo    110          62   \n",
              "\n",
              "                                  description  \n",
              "0  A orange coloured, L sized, Chambray Shirt  \n",
              "1  A orange coloured, L sized, Chambray Shirt  \n",
              "2  A orange coloured, L sized, Chambray Shirt  \n",
              "3   A indigo coloured, S sized, Puffer Jacket  \n",
              "4   A indigo coloured, S sized, Puffer Jacket  "
            ]
          },
          "execution_count": 40,
          "metadata": {},
          "output_type": "execute_result"
        }
      ],
      "source": [
        "prodSales = pd.merge(salesDf, prodDf, how=\"inner\", on=\"product_id\")\n",
        "prodSales.head()"
      ]
    },
    {
      "cell_type": "code",
      "execution_count": null,
      "metadata": {
        "colab": {
          "base_uri": "https://localhost:8080/"
        },
        "id": "6gigxGOap1IS",
        "outputId": "a2cf2c86-71a7-4cde-fbb8-90137d2f150e"
      },
      "outputs": [
        {
          "name": "stdout",
          "output_type": "stream",
          "text": [
            "<class 'pandas.core.frame.DataFrame'>\n",
            "RangeIndex: 5000 entries, 0 to 4999\n",
            "Data columns (total 2 columns):\n",
            " #   Column          Non-Null Count  Dtype\n",
            "---  ------          --------------  -----\n",
            " 0   product_id      5000 non-null   int64\n",
            " 1   price_per_unit  5000 non-null   int64\n",
            "dtypes: int64(2)\n",
            "memory usage: 78.2 KB\n"
          ]
        }
      ],
      "source": [
        "# Synchronize by replacing all salesDf product's price to prodDf product's price\n",
        "tempSalesDf = salesDf.copy()\n",
        "deleteCol = ['sales_id', 'order_id', 'quantity', 'total_price']\n",
        "tempSalesDf.drop(deleteCol, axis=1, inplace=True)\n",
        "tempSalesDf.info()"
      ]
    },
    {
      "cell_type": "code",
      "execution_count": null,
      "metadata": {
        "colab": {
          "base_uri": "https://localhost:8080/"
        },
        "id": "MLQORJgBsyO1",
        "outputId": "350db5ef-282b-4f7b-8bc1-ec3a077d6954"
      },
      "outputs": [
        {
          "data": {
            "text/plain": [
              "3767"
            ]
          },
          "execution_count": 42,
          "metadata": {},
          "output_type": "execute_result"
        }
      ],
      "source": [
        "# Check duplicate\n",
        "tempSalesDf.duplicated().sum()"
      ]
    },
    {
      "cell_type": "code",
      "execution_count": null,
      "metadata": {
        "id": "AMf-OT5Js_Z3"
      },
      "outputs": [],
      "source": [
        "# Remove Duplicate\n",
        "tempSalesDf = tempSalesDf.drop_duplicates()"
      ]
    },
    {
      "cell_type": "code",
      "execution_count": null,
      "metadata": {
        "id": "ebVF4v9ntwrh"
      },
      "outputs": [],
      "source": [
        "# Merge prodDf\n",
        "prodDf = pd.merge(prodDf, tempSalesDf, how='left', on='product_id')"
      ]
    },
    {
      "cell_type": "code",
      "execution_count": null,
      "metadata": {
        "id": "JA0luaplyRTH"
      },
      "outputs": [],
      "source": [
        "# Drop Original Price Column\n",
        "prodDf.drop('price', axis=1, inplace=True)"
      ]
    },
    {
      "cell_type": "code",
      "execution_count": null,
      "metadata": {
        "colab": {
          "base_uri": "https://localhost:8080/"
        },
        "id": "G4TU92WlxPvd",
        "outputId": "f0df8fa8-fa0b-46f8-ffcd-729240860938"
      },
      "outputs": [
        {
          "data": {
            "text/plain": [
              "product_id         0\n",
              "product_type       0\n",
              "product_name       0\n",
              "size               0\n",
              "colour             0\n",
              "quantity           0\n",
              "description        0\n",
              "price_per_unit    27\n",
              "dtype: int64"
            ]
          },
          "execution_count": 46,
          "metadata": {},
          "output_type": "execute_result"
        }
      ],
      "source": [
        "# Check Na\n",
        "prodDf.isna().sum()"
      ]
    },
    {
      "cell_type": "code",
      "execution_count": null,
      "metadata": {
        "colab": {
          "base_uri": "https://localhost:8080/"
        },
        "id": "cW2gH4XDxewx",
        "outputId": "35f51e8a-958a-470d-c8f7-b3c60f89c1e8"
      },
      "outputs": [
        {
          "data": {
            "text/plain": [
              "product_id        0\n",
              "product_type      0\n",
              "product_name      0\n",
              "size              0\n",
              "colour            0\n",
              "quantity          0\n",
              "description       0\n",
              "price_per_unit    0\n",
              "dtype: int64"
            ]
          },
          "execution_count": 47,
          "metadata": {},
          "output_type": "execute_result"
        }
      ],
      "source": [
        "# Drop Na\n",
        "prodDf = prodDf.dropna()\n",
        "prodDf.isna().sum()"
      ]
    },
    {
      "cell_type": "code",
      "execution_count": null,
      "metadata": {
        "colab": {
          "base_uri": "https://localhost:8080/"
        },
        "id": "AXfCSHCAxtpB",
        "outputId": "437cb86b-4896-4dcb-c4fc-5cd83dd43136"
      },
      "outputs": [
        {
          "data": {
            "text/plain": [
              "product_id        0\n",
              "product_type      0\n",
              "product_name      0\n",
              "size              0\n",
              "colour            0\n",
              "quantity          0\n",
              "description       0\n",
              "price_per_unit    0\n",
              "dtype: int64"
            ]
          },
          "execution_count": 48,
          "metadata": {},
          "output_type": "execute_result"
        }
      ],
      "source": [
        "# Check Null\n",
        "prodDf.isnull().sum()"
      ]
    },
    {
      "cell_type": "code",
      "execution_count": null,
      "metadata": {
        "colab": {
          "base_uri": "https://localhost:8080/"
        },
        "id": "EqCZQYcqx0dN",
        "outputId": "e4fc5cb1-802f-4ae1-92a2-eeaa5c3f6dc7"
      },
      "outputs": [
        {
          "data": {
            "text/plain": [
              "0"
            ]
          },
          "execution_count": 49,
          "metadata": {},
          "output_type": "execute_result"
        }
      ],
      "source": [
        "# Check Duplicated\n",
        "prodDf.duplicated().sum()"
      ]
    },
    {
      "cell_type": "code",
      "execution_count": null,
      "metadata": {
        "colab": {
          "base_uri": "https://localhost:8080/"
        },
        "id": "FgZBPk9hx_vX",
        "outputId": "abd1520c-0fd7-460f-f2a0-f0b6de873b0b"
      },
      "outputs": [
        {
          "name": "stdout",
          "output_type": "stream",
          "text": [
            "<class 'pandas.core.frame.DataFrame'>\n",
            "Int64Index: 1233 entries, 1 to 1259\n",
            "Data columns (total 8 columns):\n",
            " #   Column        Non-Null Count  Dtype  \n",
            "---  ------        --------------  -----  \n",
            " 0   product_id    1233 non-null   int64  \n",
            " 1   product_type  1233 non-null   object \n",
            " 2   product_name  1233 non-null   object \n",
            " 3   size          1233 non-null   object \n",
            " 4   colour        1233 non-null   object \n",
            " 5   quantity      1233 non-null   int64  \n",
            " 6   description   1233 non-null   object \n",
            " 7   price         1233 non-null   float64\n",
            "dtypes: float64(1), int64(2), object(5)\n",
            "memory usage: 86.7+ KB\n"
          ]
        }
      ],
      "source": [
        "# Rename product_ID to product_id\n",
        "prodDf = prodDf.rename(columns={'price_per_unit': 'price'})\n",
        "prodDf.info()"
      ]
    },
    {
      "cell_type": "code",
      "execution_count": null,
      "metadata": {
        "id": "zGXWzo1Zqk9k"
      },
      "outputs": [],
      "source": [
        "# Export Data cleaning Result\n",
        "\n",
        "# For Google Colaboratory\n",
        "%cd '/content/drive/MyDrive/RevoU - Capstone Project/Data Cleaning - Python'\n",
        "\n",
        "# For Github Local Repository\n",
        "# %cd '../CleanedDataset'\n",
        "\n",
        "custDf.to_csv('customers.csv', index=False)\n",
        "prodDf.to_csv('products.csv', index=False)\n",
        "orderDf.to_csv('orders.csv', index=False)\n",
        "salesDf.to_csv('sales.csv', index=False)"
      ]
    }
  ],
  "metadata": {
    "colab": {
      "include_colab_link": true,
      "provenance": []
    },
    "kernelspec": {
      "display_name": "Python 3",
      "name": "python3"
    },
    "language_info": {
      "name": "python"
    }
  },
  "nbformat": 4,
  "nbformat_minor": 0
}

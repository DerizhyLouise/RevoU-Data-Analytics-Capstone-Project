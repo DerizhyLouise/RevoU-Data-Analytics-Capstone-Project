{
  "nbformat": 4,
  "nbformat_minor": 0,
  "metadata": {
    "colab": {
      "provenance": [],
      "include_colab_link": true
    },
    "kernelspec": {
      "name": "python3",
      "display_name": "Python 3"
    },
    "language_info": {
      "name": "python"
    }
  },
  "cells": [
    {
      "cell_type": "markdown",
      "metadata": {
        "id": "view-in-github",
        "colab_type": "text"
      },
      "source": [
        "<a href=\"https://colab.research.google.com/github/DerizhyLouise/RevoU-Data-Analytics-Capstone-Project/blob/main/DataAnalytics-Question3.ipynb\" target=\"_parent\"><img src=\"https://colab.research.google.com/assets/colab-badge.svg\" alt=\"Open In Colab\"/></a>"
      ]
    },
    {
      "cell_type": "code",
      "execution_count": null,
      "metadata": {
        "colab": {
          "base_uri": "https://localhost:8080/"
        },
        "id": "KGXoqiAT0uF2",
        "outputId": "10dd493c-cf5a-4e9c-cdfc-8b04778b7b56"
      },
      "outputs": [
        {
          "output_type": "stream",
          "name": "stdout",
          "text": [
            "Drive already mounted at /content/drive; to attempt to forcibly remount, call drive.mount(\"/content/drive\", force_remount=True).\n"
          ]
        }
      ],
      "source": [
        "import pandas as pd\n",
        "import numpy as np\n",
        "import seaborn as sns\n",
        "import matplotlib.pyplot as plt\n",
        "from google.colab import drive\n",
        "\n",
        "drive.mount(\"/content/drive\")"
      ]
    },
    {
      "cell_type": "code",
      "source": [
        "%cd '/content/drive/MyDrive/Data - Analysis'"
      ],
      "metadata": {
        "colab": {
          "base_uri": "https://localhost:8080/"
        },
        "id": "iuedl-Hi1Lkf",
        "outputId": "1fa91132-b2e2-49ae-afad-9d7fd11be377"
      },
      "execution_count": null,
      "outputs": [
        {
          "output_type": "stream",
          "name": "stdout",
          "text": [
            "/content/drive/MyDrive/Data - Analysis\n"
          ]
        }
      ]
    },
    {
      "cell_type": "code",
      "source": [
        "sales_product = pd.read_csv('sales-product.csv')"
      ],
      "metadata": {
        "id": "91M-2sG_1Ohl"
      },
      "execution_count": null,
      "outputs": []
    },
    {
      "cell_type": "code",
      "source": [
        "sales_product"
      ],
      "metadata": {
        "colab": {
          "base_uri": "https://localhost:8080/",
          "height": 1000
        },
        "id": "WQ_NX4je1fVS",
        "outputId": "dc083bf6-2163-49ad-e880-1a83bfa309ad"
      },
      "execution_count": null,
      "outputs": [
        {
          "output_type": "execute_result",
          "data": {
            "text/plain": [
              "      sales_id  order_id  product_id  price_per_unit  quantity_x  total_price  \\\n",
              "0            0         1         218             106           2          212   \n",
              "1         1129       233         218             106           3          318   \n",
              "2         4616       924         218             106           2          212   \n",
              "3            1         1         481             118           1          118   \n",
              "4          349        79         481             118           2          236   \n",
              "...        ...       ...         ...             ...         ...          ...   \n",
              "4995      4848       970         510             102           1          102   \n",
              "4996      4864       973         255              95           3          285   \n",
              "4997      4883       977         735             109           2          218   \n",
              "4998      4912       982         659              93           2          186   \n",
              "4999      4998       999         998             106           2          212   \n",
              "\n",
              "     product_type product_name size  colour  quantity_y  \\\n",
              "0           Shirt     Chambray    L  orange          44   \n",
              "1           Shirt     Chambray    L  orange          44   \n",
              "2           Shirt     Chambray    L  orange          44   \n",
              "3          Jacket       Puffer    S  indigo          62   \n",
              "4          Jacket       Puffer    S  indigo          62   \n",
              "...           ...          ...  ...     ...         ...   \n",
              "4995       Jacket  Windbreaker   XS    blue          59   \n",
              "4996        Shirt         Polo   XS  yellow          79   \n",
              "4997       Jacket      Peacoat   XS     red          66   \n",
              "4998       Jacket        Coach   XL  indigo          67   \n",
              "4999     Trousers         Wool    L   green          42   \n",
              "\n",
              "                                        description  price  \n",
              "0        A orange coloured, L sized, Chambray Shirt  106.0  \n",
              "1        A orange coloured, L sized, Chambray Shirt  106.0  \n",
              "2        A orange coloured, L sized, Chambray Shirt  106.0  \n",
              "3         A indigo coloured, S sized, Puffer Jacket  118.0  \n",
              "4         A indigo coloured, S sized, Puffer Jacket  118.0  \n",
              "...                                             ...    ...  \n",
              "4995  A blue coloured, XS sized, Windbreaker Jacket  102.0  \n",
              "4996        A yellow coloured, XS sized, Polo Shirt   95.0  \n",
              "4997       A red coloured, XS sized, Peacoat Jacket  109.0  \n",
              "4998      A indigo coloured, XL sized, Coach Jacket   93.0  \n",
              "4999       A green coloured, L sized, Wool Trousers  106.0  \n",
              "\n",
              "[5000 rows x 13 columns]"
            ],
            "text/html": [
              "\n",
              "  <div id=\"df-d4aba4fa-e77a-440c-89e4-f9dd014ef03b\" class=\"colab-df-container\">\n",
              "    <div>\n",
              "<style scoped>\n",
              "    .dataframe tbody tr th:only-of-type {\n",
              "        vertical-align: middle;\n",
              "    }\n",
              "\n",
              "    .dataframe tbody tr th {\n",
              "        vertical-align: top;\n",
              "    }\n",
              "\n",
              "    .dataframe thead th {\n",
              "        text-align: right;\n",
              "    }\n",
              "</style>\n",
              "<table border=\"1\" class=\"dataframe\">\n",
              "  <thead>\n",
              "    <tr style=\"text-align: right;\">\n",
              "      <th></th>\n",
              "      <th>sales_id</th>\n",
              "      <th>order_id</th>\n",
              "      <th>product_id</th>\n",
              "      <th>price_per_unit</th>\n",
              "      <th>quantity_x</th>\n",
              "      <th>total_price</th>\n",
              "      <th>product_type</th>\n",
              "      <th>product_name</th>\n",
              "      <th>size</th>\n",
              "      <th>colour</th>\n",
              "      <th>quantity_y</th>\n",
              "      <th>description</th>\n",
              "      <th>price</th>\n",
              "    </tr>\n",
              "  </thead>\n",
              "  <tbody>\n",
              "    <tr>\n",
              "      <th>0</th>\n",
              "      <td>0</td>\n",
              "      <td>1</td>\n",
              "      <td>218</td>\n",
              "      <td>106</td>\n",
              "      <td>2</td>\n",
              "      <td>212</td>\n",
              "      <td>Shirt</td>\n",
              "      <td>Chambray</td>\n",
              "      <td>L</td>\n",
              "      <td>orange</td>\n",
              "      <td>44</td>\n",
              "      <td>A orange coloured, L sized, Chambray Shirt</td>\n",
              "      <td>106.0</td>\n",
              "    </tr>\n",
              "    <tr>\n",
              "      <th>1</th>\n",
              "      <td>1129</td>\n",
              "      <td>233</td>\n",
              "      <td>218</td>\n",
              "      <td>106</td>\n",
              "      <td>3</td>\n",
              "      <td>318</td>\n",
              "      <td>Shirt</td>\n",
              "      <td>Chambray</td>\n",
              "      <td>L</td>\n",
              "      <td>orange</td>\n",
              "      <td>44</td>\n",
              "      <td>A orange coloured, L sized, Chambray Shirt</td>\n",
              "      <td>106.0</td>\n",
              "    </tr>\n",
              "    <tr>\n",
              "      <th>2</th>\n",
              "      <td>4616</td>\n",
              "      <td>924</td>\n",
              "      <td>218</td>\n",
              "      <td>106</td>\n",
              "      <td>2</td>\n",
              "      <td>212</td>\n",
              "      <td>Shirt</td>\n",
              "      <td>Chambray</td>\n",
              "      <td>L</td>\n",
              "      <td>orange</td>\n",
              "      <td>44</td>\n",
              "      <td>A orange coloured, L sized, Chambray Shirt</td>\n",
              "      <td>106.0</td>\n",
              "    </tr>\n",
              "    <tr>\n",
              "      <th>3</th>\n",
              "      <td>1</td>\n",
              "      <td>1</td>\n",
              "      <td>481</td>\n",
              "      <td>118</td>\n",
              "      <td>1</td>\n",
              "      <td>118</td>\n",
              "      <td>Jacket</td>\n",
              "      <td>Puffer</td>\n",
              "      <td>S</td>\n",
              "      <td>indigo</td>\n",
              "      <td>62</td>\n",
              "      <td>A indigo coloured, S sized, Puffer Jacket</td>\n",
              "      <td>118.0</td>\n",
              "    </tr>\n",
              "    <tr>\n",
              "      <th>4</th>\n",
              "      <td>349</td>\n",
              "      <td>79</td>\n",
              "      <td>481</td>\n",
              "      <td>118</td>\n",
              "      <td>2</td>\n",
              "      <td>236</td>\n",
              "      <td>Jacket</td>\n",
              "      <td>Puffer</td>\n",
              "      <td>S</td>\n",
              "      <td>indigo</td>\n",
              "      <td>62</td>\n",
              "      <td>A indigo coloured, S sized, Puffer Jacket</td>\n",
              "      <td>118.0</td>\n",
              "    </tr>\n",
              "    <tr>\n",
              "      <th>...</th>\n",
              "      <td>...</td>\n",
              "      <td>...</td>\n",
              "      <td>...</td>\n",
              "      <td>...</td>\n",
              "      <td>...</td>\n",
              "      <td>...</td>\n",
              "      <td>...</td>\n",
              "      <td>...</td>\n",
              "      <td>...</td>\n",
              "      <td>...</td>\n",
              "      <td>...</td>\n",
              "      <td>...</td>\n",
              "      <td>...</td>\n",
              "    </tr>\n",
              "    <tr>\n",
              "      <th>4995</th>\n",
              "      <td>4848</td>\n",
              "      <td>970</td>\n",
              "      <td>510</td>\n",
              "      <td>102</td>\n",
              "      <td>1</td>\n",
              "      <td>102</td>\n",
              "      <td>Jacket</td>\n",
              "      <td>Windbreaker</td>\n",
              "      <td>XS</td>\n",
              "      <td>blue</td>\n",
              "      <td>59</td>\n",
              "      <td>A blue coloured, XS sized, Windbreaker Jacket</td>\n",
              "      <td>102.0</td>\n",
              "    </tr>\n",
              "    <tr>\n",
              "      <th>4996</th>\n",
              "      <td>4864</td>\n",
              "      <td>973</td>\n",
              "      <td>255</td>\n",
              "      <td>95</td>\n",
              "      <td>3</td>\n",
              "      <td>285</td>\n",
              "      <td>Shirt</td>\n",
              "      <td>Polo</td>\n",
              "      <td>XS</td>\n",
              "      <td>yellow</td>\n",
              "      <td>79</td>\n",
              "      <td>A yellow coloured, XS sized, Polo Shirt</td>\n",
              "      <td>95.0</td>\n",
              "    </tr>\n",
              "    <tr>\n",
              "      <th>4997</th>\n",
              "      <td>4883</td>\n",
              "      <td>977</td>\n",
              "      <td>735</td>\n",
              "      <td>109</td>\n",
              "      <td>2</td>\n",
              "      <td>218</td>\n",
              "      <td>Jacket</td>\n",
              "      <td>Peacoat</td>\n",
              "      <td>XS</td>\n",
              "      <td>red</td>\n",
              "      <td>66</td>\n",
              "      <td>A red coloured, XS sized, Peacoat Jacket</td>\n",
              "      <td>109.0</td>\n",
              "    </tr>\n",
              "    <tr>\n",
              "      <th>4998</th>\n",
              "      <td>4912</td>\n",
              "      <td>982</td>\n",
              "      <td>659</td>\n",
              "      <td>93</td>\n",
              "      <td>2</td>\n",
              "      <td>186</td>\n",
              "      <td>Jacket</td>\n",
              "      <td>Coach</td>\n",
              "      <td>XL</td>\n",
              "      <td>indigo</td>\n",
              "      <td>67</td>\n",
              "      <td>A indigo coloured, XL sized, Coach Jacket</td>\n",
              "      <td>93.0</td>\n",
              "    </tr>\n",
              "    <tr>\n",
              "      <th>4999</th>\n",
              "      <td>4998</td>\n",
              "      <td>999</td>\n",
              "      <td>998</td>\n",
              "      <td>106</td>\n",
              "      <td>2</td>\n",
              "      <td>212</td>\n",
              "      <td>Trousers</td>\n",
              "      <td>Wool</td>\n",
              "      <td>L</td>\n",
              "      <td>green</td>\n",
              "      <td>42</td>\n",
              "      <td>A green coloured, L sized, Wool Trousers</td>\n",
              "      <td>106.0</td>\n",
              "    </tr>\n",
              "  </tbody>\n",
              "</table>\n",
              "<p>5000 rows × 13 columns</p>\n",
              "</div>\n",
              "    <div class=\"colab-df-buttons\">\n",
              "\n",
              "  <div class=\"colab-df-container\">\n",
              "    <button class=\"colab-df-convert\" onclick=\"convertToInteractive('df-d4aba4fa-e77a-440c-89e4-f9dd014ef03b')\"\n",
              "            title=\"Convert this dataframe to an interactive table.\"\n",
              "            style=\"display:none;\">\n",
              "\n",
              "  <svg xmlns=\"http://www.w3.org/2000/svg\" height=\"24px\" viewBox=\"0 -960 960 960\">\n",
              "    <path d=\"M120-120v-720h720v720H120Zm60-500h600v-160H180v160Zm220 220h160v-160H400v160Zm0 220h160v-160H400v160ZM180-400h160v-160H180v160Zm440 0h160v-160H620v160ZM180-180h160v-160H180v160Zm440 0h160v-160H620v160Z\"/>\n",
              "  </svg>\n",
              "    </button>\n",
              "\n",
              "  <style>\n",
              "    .colab-df-container {\n",
              "      display:flex;\n",
              "      gap: 12px;\n",
              "    }\n",
              "\n",
              "    .colab-df-convert {\n",
              "      background-color: #E8F0FE;\n",
              "      border: none;\n",
              "      border-radius: 50%;\n",
              "      cursor: pointer;\n",
              "      display: none;\n",
              "      fill: #1967D2;\n",
              "      height: 32px;\n",
              "      padding: 0 0 0 0;\n",
              "      width: 32px;\n",
              "    }\n",
              "\n",
              "    .colab-df-convert:hover {\n",
              "      background-color: #E2EBFA;\n",
              "      box-shadow: 0px 1px 2px rgba(60, 64, 67, 0.3), 0px 1px 3px 1px rgba(60, 64, 67, 0.15);\n",
              "      fill: #174EA6;\n",
              "    }\n",
              "\n",
              "    .colab-df-buttons div {\n",
              "      margin-bottom: 4px;\n",
              "    }\n",
              "\n",
              "    [theme=dark] .colab-df-convert {\n",
              "      background-color: #3B4455;\n",
              "      fill: #D2E3FC;\n",
              "    }\n",
              "\n",
              "    [theme=dark] .colab-df-convert:hover {\n",
              "      background-color: #434B5C;\n",
              "      box-shadow: 0px 1px 3px 1px rgba(0, 0, 0, 0.15);\n",
              "      filter: drop-shadow(0px 1px 2px rgba(0, 0, 0, 0.3));\n",
              "      fill: #FFFFFF;\n",
              "    }\n",
              "  </style>\n",
              "\n",
              "    <script>\n",
              "      const buttonEl =\n",
              "        document.querySelector('#df-d4aba4fa-e77a-440c-89e4-f9dd014ef03b button.colab-df-convert');\n",
              "      buttonEl.style.display =\n",
              "        google.colab.kernel.accessAllowed ? 'block' : 'none';\n",
              "\n",
              "      async function convertToInteractive(key) {\n",
              "        const element = document.querySelector('#df-d4aba4fa-e77a-440c-89e4-f9dd014ef03b');\n",
              "        const dataTable =\n",
              "          await google.colab.kernel.invokeFunction('convertToInteractive',\n",
              "                                                    [key], {});\n",
              "        if (!dataTable) return;\n",
              "\n",
              "        const docLinkHtml = 'Like what you see? Visit the ' +\n",
              "          '<a target=\"_blank\" href=https://colab.research.google.com/notebooks/data_table.ipynb>data table notebook</a>'\n",
              "          + ' to learn more about interactive tables.';\n",
              "        element.innerHTML = '';\n",
              "        dataTable['output_type'] = 'display_data';\n",
              "        await google.colab.output.renderOutput(dataTable, element);\n",
              "        const docLink = document.createElement('div');\n",
              "        docLink.innerHTML = docLinkHtml;\n",
              "        element.appendChild(docLink);\n",
              "      }\n",
              "    </script>\n",
              "  </div>\n",
              "\n",
              "\n",
              "<div id=\"df-f2455b27-150b-4b2c-8fe8-27ded6427850\">\n",
              "  <button class=\"colab-df-quickchart\" onclick=\"quickchart('df-f2455b27-150b-4b2c-8fe8-27ded6427850')\"\n",
              "            title=\"Suggest charts\"\n",
              "            style=\"display:none;\">\n",
              "\n",
              "<svg xmlns=\"http://www.w3.org/2000/svg\" height=\"24px\"viewBox=\"0 0 24 24\"\n",
              "     width=\"24px\">\n",
              "    <g>\n",
              "        <path d=\"M19 3H5c-1.1 0-2 .9-2 2v14c0 1.1.9 2 2 2h14c1.1 0 2-.9 2-2V5c0-1.1-.9-2-2-2zM9 17H7v-7h2v7zm4 0h-2V7h2v10zm4 0h-2v-4h2v4z\"/>\n",
              "    </g>\n",
              "</svg>\n",
              "  </button>\n",
              "\n",
              "<style>\n",
              "  .colab-df-quickchart {\n",
              "      --bg-color: #E8F0FE;\n",
              "      --fill-color: #1967D2;\n",
              "      --hover-bg-color: #E2EBFA;\n",
              "      --hover-fill-color: #174EA6;\n",
              "      --disabled-fill-color: #AAA;\n",
              "      --disabled-bg-color: #DDD;\n",
              "  }\n",
              "\n",
              "  [theme=dark] .colab-df-quickchart {\n",
              "      --bg-color: #3B4455;\n",
              "      --fill-color: #D2E3FC;\n",
              "      --hover-bg-color: #434B5C;\n",
              "      --hover-fill-color: #FFFFFF;\n",
              "      --disabled-bg-color: #3B4455;\n",
              "      --disabled-fill-color: #666;\n",
              "  }\n",
              "\n",
              "  .colab-df-quickchart {\n",
              "    background-color: var(--bg-color);\n",
              "    border: none;\n",
              "    border-radius: 50%;\n",
              "    cursor: pointer;\n",
              "    display: none;\n",
              "    fill: var(--fill-color);\n",
              "    height: 32px;\n",
              "    padding: 0;\n",
              "    width: 32px;\n",
              "  }\n",
              "\n",
              "  .colab-df-quickchart:hover {\n",
              "    background-color: var(--hover-bg-color);\n",
              "    box-shadow: 0 1px 2px rgba(60, 64, 67, 0.3), 0 1px 3px 1px rgba(60, 64, 67, 0.15);\n",
              "    fill: var(--button-hover-fill-color);\n",
              "  }\n",
              "\n",
              "  .colab-df-quickchart-complete:disabled,\n",
              "  .colab-df-quickchart-complete:disabled:hover {\n",
              "    background-color: var(--disabled-bg-color);\n",
              "    fill: var(--disabled-fill-color);\n",
              "    box-shadow: none;\n",
              "  }\n",
              "\n",
              "  .colab-df-spinner {\n",
              "    border: 2px solid var(--fill-color);\n",
              "    border-color: transparent;\n",
              "    border-bottom-color: var(--fill-color);\n",
              "    animation:\n",
              "      spin 1s steps(1) infinite;\n",
              "  }\n",
              "\n",
              "  @keyframes spin {\n",
              "    0% {\n",
              "      border-color: transparent;\n",
              "      border-bottom-color: var(--fill-color);\n",
              "      border-left-color: var(--fill-color);\n",
              "    }\n",
              "    20% {\n",
              "      border-color: transparent;\n",
              "      border-left-color: var(--fill-color);\n",
              "      border-top-color: var(--fill-color);\n",
              "    }\n",
              "    30% {\n",
              "      border-color: transparent;\n",
              "      border-left-color: var(--fill-color);\n",
              "      border-top-color: var(--fill-color);\n",
              "      border-right-color: var(--fill-color);\n",
              "    }\n",
              "    40% {\n",
              "      border-color: transparent;\n",
              "      border-right-color: var(--fill-color);\n",
              "      border-top-color: var(--fill-color);\n",
              "    }\n",
              "    60% {\n",
              "      border-color: transparent;\n",
              "      border-right-color: var(--fill-color);\n",
              "    }\n",
              "    80% {\n",
              "      border-color: transparent;\n",
              "      border-right-color: var(--fill-color);\n",
              "      border-bottom-color: var(--fill-color);\n",
              "    }\n",
              "    90% {\n",
              "      border-color: transparent;\n",
              "      border-bottom-color: var(--fill-color);\n",
              "    }\n",
              "  }\n",
              "</style>\n",
              "\n",
              "  <script>\n",
              "    async function quickchart(key) {\n",
              "      const quickchartButtonEl =\n",
              "        document.querySelector('#' + key + ' button');\n",
              "      quickchartButtonEl.disabled = true;  // To prevent multiple clicks.\n",
              "      quickchartButtonEl.classList.add('colab-df-spinner');\n",
              "      try {\n",
              "        const charts = await google.colab.kernel.invokeFunction(\n",
              "            'suggestCharts', [key], {});\n",
              "      } catch (error) {\n",
              "        console.error('Error during call to suggestCharts:', error);\n",
              "      }\n",
              "      quickchartButtonEl.classList.remove('colab-df-spinner');\n",
              "      quickchartButtonEl.classList.add('colab-df-quickchart-complete');\n",
              "    }\n",
              "    (() => {\n",
              "      let quickchartButtonEl =\n",
              "        document.querySelector('#df-f2455b27-150b-4b2c-8fe8-27ded6427850 button');\n",
              "      quickchartButtonEl.style.display =\n",
              "        google.colab.kernel.accessAllowed ? 'block' : 'none';\n",
              "    })();\n",
              "  </script>\n",
              "</div>\n",
              "    </div>\n",
              "  </div>\n"
            ]
          },
          "metadata": {},
          "execution_count": 7
        }
      ]
    },
    {
      "cell_type": "markdown",
      "source": [
        "## EDA (Exploratory Data Analysis)"
      ],
      "metadata": {
        "id": "QGWTfe0R2c7j"
      }
    },
    {
      "cell_type": "code",
      "source": [
        "df_eda = sales_product.copy()\n",
        "df_eda.head()"
      ],
      "metadata": {
        "colab": {
          "base_uri": "https://localhost:8080/",
          "height": 538
        },
        "id": "sp51nukQ2cUT",
        "outputId": "119f3b4f-c6ff-4264-e6a2-7b71ee0ec5b9"
      },
      "execution_count": null,
      "outputs": [
        {
          "output_type": "execute_result",
          "data": {
            "text/plain": [
              "   sales_id  order_id  product_id  price_per_unit  quantity_x  total_price  \\\n",
              "0         0         1         218             106           2          212   \n",
              "1      1129       233         218             106           3          318   \n",
              "2      4616       924         218             106           2          212   \n",
              "3         1         1         481             118           1          118   \n",
              "4       349        79         481             118           2          236   \n",
              "\n",
              "  product_type product_name size  colour  quantity_y  \\\n",
              "0        Shirt     Chambray    L  orange          44   \n",
              "1        Shirt     Chambray    L  orange          44   \n",
              "2        Shirt     Chambray    L  orange          44   \n",
              "3       Jacket       Puffer    S  indigo          62   \n",
              "4       Jacket       Puffer    S  indigo          62   \n",
              "\n",
              "                                  description  price  \n",
              "0  A orange coloured, L sized, Chambray Shirt  106.0  \n",
              "1  A orange coloured, L sized, Chambray Shirt  106.0  \n",
              "2  A orange coloured, L sized, Chambray Shirt  106.0  \n",
              "3   A indigo coloured, S sized, Puffer Jacket  118.0  \n",
              "4   A indigo coloured, S sized, Puffer Jacket  118.0  "
            ],
            "text/html": [
              "\n",
              "  <div id=\"df-5d7384f8-8d44-45fa-bdef-dec69e012174\" class=\"colab-df-container\">\n",
              "    <div>\n",
              "<style scoped>\n",
              "    .dataframe tbody tr th:only-of-type {\n",
              "        vertical-align: middle;\n",
              "    }\n",
              "\n",
              "    .dataframe tbody tr th {\n",
              "        vertical-align: top;\n",
              "    }\n",
              "\n",
              "    .dataframe thead th {\n",
              "        text-align: right;\n",
              "    }\n",
              "</style>\n",
              "<table border=\"1\" class=\"dataframe\">\n",
              "  <thead>\n",
              "    <tr style=\"text-align: right;\">\n",
              "      <th></th>\n",
              "      <th>sales_id</th>\n",
              "      <th>order_id</th>\n",
              "      <th>product_id</th>\n",
              "      <th>price_per_unit</th>\n",
              "      <th>quantity_x</th>\n",
              "      <th>total_price</th>\n",
              "      <th>product_type</th>\n",
              "      <th>product_name</th>\n",
              "      <th>size</th>\n",
              "      <th>colour</th>\n",
              "      <th>quantity_y</th>\n",
              "      <th>description</th>\n",
              "      <th>price</th>\n",
              "    </tr>\n",
              "  </thead>\n",
              "  <tbody>\n",
              "    <tr>\n",
              "      <th>0</th>\n",
              "      <td>0</td>\n",
              "      <td>1</td>\n",
              "      <td>218</td>\n",
              "      <td>106</td>\n",
              "      <td>2</td>\n",
              "      <td>212</td>\n",
              "      <td>Shirt</td>\n",
              "      <td>Chambray</td>\n",
              "      <td>L</td>\n",
              "      <td>orange</td>\n",
              "      <td>44</td>\n",
              "      <td>A orange coloured, L sized, Chambray Shirt</td>\n",
              "      <td>106.0</td>\n",
              "    </tr>\n",
              "    <tr>\n",
              "      <th>1</th>\n",
              "      <td>1129</td>\n",
              "      <td>233</td>\n",
              "      <td>218</td>\n",
              "      <td>106</td>\n",
              "      <td>3</td>\n",
              "      <td>318</td>\n",
              "      <td>Shirt</td>\n",
              "      <td>Chambray</td>\n",
              "      <td>L</td>\n",
              "      <td>orange</td>\n",
              "      <td>44</td>\n",
              "      <td>A orange coloured, L sized, Chambray Shirt</td>\n",
              "      <td>106.0</td>\n",
              "    </tr>\n",
              "    <tr>\n",
              "      <th>2</th>\n",
              "      <td>4616</td>\n",
              "      <td>924</td>\n",
              "      <td>218</td>\n",
              "      <td>106</td>\n",
              "      <td>2</td>\n",
              "      <td>212</td>\n",
              "      <td>Shirt</td>\n",
              "      <td>Chambray</td>\n",
              "      <td>L</td>\n",
              "      <td>orange</td>\n",
              "      <td>44</td>\n",
              "      <td>A orange coloured, L sized, Chambray Shirt</td>\n",
              "      <td>106.0</td>\n",
              "    </tr>\n",
              "    <tr>\n",
              "      <th>3</th>\n",
              "      <td>1</td>\n",
              "      <td>1</td>\n",
              "      <td>481</td>\n",
              "      <td>118</td>\n",
              "      <td>1</td>\n",
              "      <td>118</td>\n",
              "      <td>Jacket</td>\n",
              "      <td>Puffer</td>\n",
              "      <td>S</td>\n",
              "      <td>indigo</td>\n",
              "      <td>62</td>\n",
              "      <td>A indigo coloured, S sized, Puffer Jacket</td>\n",
              "      <td>118.0</td>\n",
              "    </tr>\n",
              "    <tr>\n",
              "      <th>4</th>\n",
              "      <td>349</td>\n",
              "      <td>79</td>\n",
              "      <td>481</td>\n",
              "      <td>118</td>\n",
              "      <td>2</td>\n",
              "      <td>236</td>\n",
              "      <td>Jacket</td>\n",
              "      <td>Puffer</td>\n",
              "      <td>S</td>\n",
              "      <td>indigo</td>\n",
              "      <td>62</td>\n",
              "      <td>A indigo coloured, S sized, Puffer Jacket</td>\n",
              "      <td>118.0</td>\n",
              "    </tr>\n",
              "  </tbody>\n",
              "</table>\n",
              "</div>\n",
              "    <div class=\"colab-df-buttons\">\n",
              "\n",
              "  <div class=\"colab-df-container\">\n",
              "    <button class=\"colab-df-convert\" onclick=\"convertToInteractive('df-5d7384f8-8d44-45fa-bdef-dec69e012174')\"\n",
              "            title=\"Convert this dataframe to an interactive table.\"\n",
              "            style=\"display:none;\">\n",
              "\n",
              "  <svg xmlns=\"http://www.w3.org/2000/svg\" height=\"24px\" viewBox=\"0 -960 960 960\">\n",
              "    <path d=\"M120-120v-720h720v720H120Zm60-500h600v-160H180v160Zm220 220h160v-160H400v160Zm0 220h160v-160H400v160ZM180-400h160v-160H180v160Zm440 0h160v-160H620v160ZM180-180h160v-160H180v160Zm440 0h160v-160H620v160Z\"/>\n",
              "  </svg>\n",
              "    </button>\n",
              "\n",
              "  <style>\n",
              "    .colab-df-container {\n",
              "      display:flex;\n",
              "      gap: 12px;\n",
              "    }\n",
              "\n",
              "    .colab-df-convert {\n",
              "      background-color: #E8F0FE;\n",
              "      border: none;\n",
              "      border-radius: 50%;\n",
              "      cursor: pointer;\n",
              "      display: none;\n",
              "      fill: #1967D2;\n",
              "      height: 32px;\n",
              "      padding: 0 0 0 0;\n",
              "      width: 32px;\n",
              "    }\n",
              "\n",
              "    .colab-df-convert:hover {\n",
              "      background-color: #E2EBFA;\n",
              "      box-shadow: 0px 1px 2px rgba(60, 64, 67, 0.3), 0px 1px 3px 1px rgba(60, 64, 67, 0.15);\n",
              "      fill: #174EA6;\n",
              "    }\n",
              "\n",
              "    .colab-df-buttons div {\n",
              "      margin-bottom: 4px;\n",
              "    }\n",
              "\n",
              "    [theme=dark] .colab-df-convert {\n",
              "      background-color: #3B4455;\n",
              "      fill: #D2E3FC;\n",
              "    }\n",
              "\n",
              "    [theme=dark] .colab-df-convert:hover {\n",
              "      background-color: #434B5C;\n",
              "      box-shadow: 0px 1px 3px 1px rgba(0, 0, 0, 0.15);\n",
              "      filter: drop-shadow(0px 1px 2px rgba(0, 0, 0, 0.3));\n",
              "      fill: #FFFFFF;\n",
              "    }\n",
              "  </style>\n",
              "\n",
              "    <script>\n",
              "      const buttonEl =\n",
              "        document.querySelector('#df-5d7384f8-8d44-45fa-bdef-dec69e012174 button.colab-df-convert');\n",
              "      buttonEl.style.display =\n",
              "        google.colab.kernel.accessAllowed ? 'block' : 'none';\n",
              "\n",
              "      async function convertToInteractive(key) {\n",
              "        const element = document.querySelector('#df-5d7384f8-8d44-45fa-bdef-dec69e012174');\n",
              "        const dataTable =\n",
              "          await google.colab.kernel.invokeFunction('convertToInteractive',\n",
              "                                                    [key], {});\n",
              "        if (!dataTable) return;\n",
              "\n",
              "        const docLinkHtml = 'Like what you see? Visit the ' +\n",
              "          '<a target=\"_blank\" href=https://colab.research.google.com/notebooks/data_table.ipynb>data table notebook</a>'\n",
              "          + ' to learn more about interactive tables.';\n",
              "        element.innerHTML = '';\n",
              "        dataTable['output_type'] = 'display_data';\n",
              "        await google.colab.output.renderOutput(dataTable, element);\n",
              "        const docLink = document.createElement('div');\n",
              "        docLink.innerHTML = docLinkHtml;\n",
              "        element.appendChild(docLink);\n",
              "      }\n",
              "    </script>\n",
              "  </div>\n",
              "\n",
              "\n",
              "<div id=\"df-a0efe407-b291-4e42-9e0a-4e8eaf6d2d0c\">\n",
              "  <button class=\"colab-df-quickchart\" onclick=\"quickchart('df-a0efe407-b291-4e42-9e0a-4e8eaf6d2d0c')\"\n",
              "            title=\"Suggest charts\"\n",
              "            style=\"display:none;\">\n",
              "\n",
              "<svg xmlns=\"http://www.w3.org/2000/svg\" height=\"24px\"viewBox=\"0 0 24 24\"\n",
              "     width=\"24px\">\n",
              "    <g>\n",
              "        <path d=\"M19 3H5c-1.1 0-2 .9-2 2v14c0 1.1.9 2 2 2h14c1.1 0 2-.9 2-2V5c0-1.1-.9-2-2-2zM9 17H7v-7h2v7zm4 0h-2V7h2v10zm4 0h-2v-4h2v4z\"/>\n",
              "    </g>\n",
              "</svg>\n",
              "  </button>\n",
              "\n",
              "<style>\n",
              "  .colab-df-quickchart {\n",
              "      --bg-color: #E8F0FE;\n",
              "      --fill-color: #1967D2;\n",
              "      --hover-bg-color: #E2EBFA;\n",
              "      --hover-fill-color: #174EA6;\n",
              "      --disabled-fill-color: #AAA;\n",
              "      --disabled-bg-color: #DDD;\n",
              "  }\n",
              "\n",
              "  [theme=dark] .colab-df-quickchart {\n",
              "      --bg-color: #3B4455;\n",
              "      --fill-color: #D2E3FC;\n",
              "      --hover-bg-color: #434B5C;\n",
              "      --hover-fill-color: #FFFFFF;\n",
              "      --disabled-bg-color: #3B4455;\n",
              "      --disabled-fill-color: #666;\n",
              "  }\n",
              "\n",
              "  .colab-df-quickchart {\n",
              "    background-color: var(--bg-color);\n",
              "    border: none;\n",
              "    border-radius: 50%;\n",
              "    cursor: pointer;\n",
              "    display: none;\n",
              "    fill: var(--fill-color);\n",
              "    height: 32px;\n",
              "    padding: 0;\n",
              "    width: 32px;\n",
              "  }\n",
              "\n",
              "  .colab-df-quickchart:hover {\n",
              "    background-color: var(--hover-bg-color);\n",
              "    box-shadow: 0 1px 2px rgba(60, 64, 67, 0.3), 0 1px 3px 1px rgba(60, 64, 67, 0.15);\n",
              "    fill: var(--button-hover-fill-color);\n",
              "  }\n",
              "\n",
              "  .colab-df-quickchart-complete:disabled,\n",
              "  .colab-df-quickchart-complete:disabled:hover {\n",
              "    background-color: var(--disabled-bg-color);\n",
              "    fill: var(--disabled-fill-color);\n",
              "    box-shadow: none;\n",
              "  }\n",
              "\n",
              "  .colab-df-spinner {\n",
              "    border: 2px solid var(--fill-color);\n",
              "    border-color: transparent;\n",
              "    border-bottom-color: var(--fill-color);\n",
              "    animation:\n",
              "      spin 1s steps(1) infinite;\n",
              "  }\n",
              "\n",
              "  @keyframes spin {\n",
              "    0% {\n",
              "      border-color: transparent;\n",
              "      border-bottom-color: var(--fill-color);\n",
              "      border-left-color: var(--fill-color);\n",
              "    }\n",
              "    20% {\n",
              "      border-color: transparent;\n",
              "      border-left-color: var(--fill-color);\n",
              "      border-top-color: var(--fill-color);\n",
              "    }\n",
              "    30% {\n",
              "      border-color: transparent;\n",
              "      border-left-color: var(--fill-color);\n",
              "      border-top-color: var(--fill-color);\n",
              "      border-right-color: var(--fill-color);\n",
              "    }\n",
              "    40% {\n",
              "      border-color: transparent;\n",
              "      border-right-color: var(--fill-color);\n",
              "      border-top-color: var(--fill-color);\n",
              "    }\n",
              "    60% {\n",
              "      border-color: transparent;\n",
              "      border-right-color: var(--fill-color);\n",
              "    }\n",
              "    80% {\n",
              "      border-color: transparent;\n",
              "      border-right-color: var(--fill-color);\n",
              "      border-bottom-color: var(--fill-color);\n",
              "    }\n",
              "    90% {\n",
              "      border-color: transparent;\n",
              "      border-bottom-color: var(--fill-color);\n",
              "    }\n",
              "  }\n",
              "</style>\n",
              "\n",
              "  <script>\n",
              "    async function quickchart(key) {\n",
              "      const quickchartButtonEl =\n",
              "        document.querySelector('#' + key + ' button');\n",
              "      quickchartButtonEl.disabled = true;  // To prevent multiple clicks.\n",
              "      quickchartButtonEl.classList.add('colab-df-spinner');\n",
              "      try {\n",
              "        const charts = await google.colab.kernel.invokeFunction(\n",
              "            'suggestCharts', [key], {});\n",
              "      } catch (error) {\n",
              "        console.error('Error during call to suggestCharts:', error);\n",
              "      }\n",
              "      quickchartButtonEl.classList.remove('colab-df-spinner');\n",
              "      quickchartButtonEl.classList.add('colab-df-quickchart-complete');\n",
              "    }\n",
              "    (() => {\n",
              "      let quickchartButtonEl =\n",
              "        document.querySelector('#df-a0efe407-b291-4e42-9e0a-4e8eaf6d2d0c button');\n",
              "      quickchartButtonEl.style.display =\n",
              "        google.colab.kernel.accessAllowed ? 'block' : 'none';\n",
              "    })();\n",
              "  </script>\n",
              "</div>\n",
              "    </div>\n",
              "  </div>\n"
            ]
          },
          "metadata": {},
          "execution_count": 8
        }
      ]
    },
    {
      "cell_type": "markdown",
      "source": [
        "# Descriptive Analytics"
      ],
      "metadata": {
        "id": "9yE9isXV2BEc"
      }
    },
    {
      "cell_type": "code",
      "source": [
        "df_eda.info()"
      ],
      "metadata": {
        "colab": {
          "base_uri": "https://localhost:8080/"
        },
        "id": "SCwAsfba27q4",
        "outputId": "a5d3a45e-2e52-415c-cff4-0defa21e2bdc"
      },
      "execution_count": null,
      "outputs": [
        {
          "output_type": "stream",
          "name": "stdout",
          "text": [
            "<class 'pandas.core.frame.DataFrame'>\n",
            "RangeIndex: 5000 entries, 0 to 4999\n",
            "Data columns (total 13 columns):\n",
            " #   Column          Non-Null Count  Dtype  \n",
            "---  ------          --------------  -----  \n",
            " 0   sales_id        5000 non-null   int64  \n",
            " 1   order_id        5000 non-null   int64  \n",
            " 2   product_id      5000 non-null   int64  \n",
            " 3   price_per_unit  5000 non-null   int64  \n",
            " 4   quantity_x      5000 non-null   int64  \n",
            " 5   total_price     5000 non-null   int64  \n",
            " 6   product_type    5000 non-null   object \n",
            " 7   product_name    5000 non-null   object \n",
            " 8   size            5000 non-null   object \n",
            " 9   colour          5000 non-null   object \n",
            " 10  quantity_y      5000 non-null   int64  \n",
            " 11  description     5000 non-null   object \n",
            " 12  price           5000 non-null   float64\n",
            "dtypes: float64(1), int64(7), object(5)\n",
            "memory usage: 507.9+ KB\n"
          ]
        }
      ]
    },
    {
      "cell_type": "markdown",
      "source": [
        "# Product Type"
      ],
      "metadata": {
        "id": "29YxQWIJ3Q2k"
      }
    },
    {
      "cell_type": "markdown",
      "source": [
        "How many product type?"
      ],
      "metadata": {
        "id": "Lp26bh0n3ZIU"
      }
    },
    {
      "cell_type": "code",
      "source": [
        "df_eda['product_type'].nunique()"
      ],
      "metadata": {
        "colab": {
          "base_uri": "https://localhost:8080/"
        },
        "id": "NHJz2oRZ3QRA",
        "outputId": "033f726f-fb40-4a23-d839-e29d64d3ea5e"
      },
      "execution_count": null,
      "outputs": [
        {
          "output_type": "execute_result",
          "data": {
            "text/plain": [
              "3"
            ]
          },
          "metadata": {},
          "execution_count": 10
        }
      ]
    },
    {
      "cell_type": "markdown",
      "source": [
        "What types?"
      ],
      "metadata": {
        "id": "PSGXH0g64BVX"
      }
    },
    {
      "cell_type": "code",
      "source": [
        "df_eda['product_type'].values"
      ],
      "metadata": {
        "colab": {
          "base_uri": "https://localhost:8080/"
        },
        "id": "EWb1Y89h523n",
        "outputId": "b8d515f0-2a56-40ed-9f58-596b8355e125"
      },
      "execution_count": null,
      "outputs": [
        {
          "output_type": "execute_result",
          "data": {
            "text/plain": [
              "array(['Shirt', 'Shirt', 'Shirt', ..., 'Jacket', 'Jacket', 'Trousers'],\n",
              "      dtype=object)"
            ]
          },
          "metadata": {},
          "execution_count": 11
        }
      ]
    },
    {
      "cell_type": "code",
      "source": [
        "df_eda['product_type'].value_counts()"
      ],
      "metadata": {
        "colab": {
          "base_uri": "https://localhost:8080/"
        },
        "id": "fWMIJQd43l0B",
        "outputId": "b8a1749f-c667-4755-c9a7-d6afd322fcb7"
      },
      "execution_count": null,
      "outputs": [
        {
          "output_type": "execute_result",
          "data": {
            "text/plain": [
              "Trousers    1683\n",
              "Jacket      1676\n",
              "Shirt       1641\n",
              "Name: product_type, dtype: int64"
            ]
          },
          "metadata": {},
          "execution_count": 12
        }
      ]
    },
    {
      "cell_type": "markdown",
      "source": [
        "# Product Name"
      ],
      "metadata": {
        "id": "hkwRnDmW4rTA"
      }
    },
    {
      "cell_type": "markdown",
      "source": [
        "How many product name?"
      ],
      "metadata": {
        "id": "tE8LmCfR4vqo"
      }
    },
    {
      "cell_type": "code",
      "source": [
        "df_eda['product_name'].nunique()"
      ],
      "metadata": {
        "colab": {
          "base_uri": "https://localhost:8080/"
        },
        "id": "9hSl3tcx4uVJ",
        "outputId": "d1321058-7620-4b25-b3aa-fc9b436f7163"
      },
      "execution_count": null,
      "outputs": [
        {
          "output_type": "execute_result",
          "data": {
            "text/plain": [
              "35"
            ]
          },
          "metadata": {},
          "execution_count": 13
        }
      ]
    },
    {
      "cell_type": "markdown",
      "source": [
        "What are the product name?"
      ],
      "metadata": {
        "id": "Wy23OfCf4-8D"
      }
    },
    {
      "cell_type": "code",
      "source": [
        "df_eda['product_name'].values"
      ],
      "metadata": {
        "colab": {
          "base_uri": "https://localhost:8080/"
        },
        "id": "8kOcRS2Y5rFt",
        "outputId": "1e467630-c5c5-40da-f88f-d1a72cf2c28e"
      },
      "execution_count": null,
      "outputs": [
        {
          "output_type": "execute_result",
          "data": {
            "text/plain": [
              "array(['Chambray', 'Chambray', 'Chambray', ..., 'Peacoat', 'Coach',\n",
              "       'Wool'], dtype=object)"
            ]
          },
          "metadata": {},
          "execution_count": 14
        }
      ]
    },
    {
      "cell_type": "code",
      "source": [
        "df_eda['product_name'].value_counts()"
      ],
      "metadata": {
        "colab": {
          "base_uri": "https://localhost:8080/"
        },
        "id": "WhPm6tj14-KV",
        "outputId": "31779359-f12d-4d88-9a2e-3103a619c133"
      },
      "execution_count": null,
      "outputs": [
        {
          "output_type": "execute_result",
          "data": {
            "text/plain": [
              "Denim                273\n",
              "Joggers              164\n",
              "Slim-Fit             154\n",
              "Casual Slim Fit      154\n",
              "Bomber               150\n",
              "Shearling            150\n",
              "Drawstring           147\n",
              "Pleated              147\n",
              "Trench Coat          146\n",
              "Henley               146\n",
              "Relaxed Leg          146\n",
              "Oxford Cloth         146\n",
              "Windbreaker          143\n",
              "Pullover             143\n",
              "Flannel              141\n",
              "Chambray             141\n",
              "High-Waisted         140\n",
              "Puffer               140\n",
              "Camp Collared        139\n",
              "Leather              136\n",
              "Chinos               135\n",
              "Cropped              135\n",
              "Cardigan             134\n",
              "Cargo Pants          134\n",
              "Coach                134\n",
              "Parka                134\n",
              "Peacoat              132\n",
              "Linen                131\n",
              "Polo                 131\n",
              "Tracksuit Bottoms    130\n",
              "Dress                127\n",
              "Cords                126\n",
              "Wool                 125\n",
              "Mandarin Collar      124\n",
              "Cuban Collar         122\n",
              "Name: product_name, dtype: int64"
            ]
          },
          "metadata": {},
          "execution_count": 15
        }
      ]
    },
    {
      "cell_type": "markdown",
      "source": [
        "How many product name in each product type?"
      ],
      "metadata": {
        "id": "ZIGDhSYu6K8O"
      }
    },
    {
      "cell_type": "code",
      "source": [
        "df_prodtype = df_eda.groupby(['product_type'])['product_name'].nunique().reset_index().sort_values(by='product_type', ascending=True)\n",
        "print(df_prodtype)"
      ],
      "metadata": {
        "colab": {
          "base_uri": "https://localhost:8080/"
        },
        "id": "hmmopxTL6Q2A",
        "outputId": "39e6b27d-709d-43e3-f6c2-d0a0994853f8"
      },
      "execution_count": null,
      "outputs": [
        {
          "output_type": "stream",
          "name": "stdout",
          "text": [
            "  product_type  product_name\n",
            "0       Jacket            12\n",
            "1        Shirt            12\n",
            "2     Trousers            12\n"
          ]
        }
      ]
    },
    {
      "cell_type": "markdown",
      "source": [
        "# Size"
      ],
      "metadata": {
        "id": "UKI7UeWN7JDP"
      }
    },
    {
      "cell_type": "markdown",
      "source": [
        "How many size?"
      ],
      "metadata": {
        "id": "h4gxHmtC7M7H"
      }
    },
    {
      "cell_type": "code",
      "source": [
        "df_eda['size'].nunique()"
      ],
      "metadata": {
        "colab": {
          "base_uri": "https://localhost:8080/"
        },
        "id": "0b0XviLq67J9",
        "outputId": "6a5989b4-1db4-4d60-ce24-adf201ff141d"
      },
      "execution_count": null,
      "outputs": [
        {
          "output_type": "execute_result",
          "data": {
            "text/plain": [
              "5"
            ]
          },
          "metadata": {},
          "execution_count": 17
        }
      ]
    },
    {
      "cell_type": "markdown",
      "source": [
        "What sizes?"
      ],
      "metadata": {
        "id": "viaFK8Fx7YzF"
      }
    },
    {
      "cell_type": "code",
      "source": [
        "df_eda['size'].values"
      ],
      "metadata": {
        "colab": {
          "base_uri": "https://localhost:8080/"
        },
        "id": "l0NHBgty7kD-",
        "outputId": "39297fab-4a1b-4df1-949d-56882eb9c76d"
      },
      "execution_count": null,
      "outputs": [
        {
          "output_type": "execute_result",
          "data": {
            "text/plain": [
              "array(['L', 'L', 'L', ..., 'XS', 'XL', 'L'], dtype=object)"
            ]
          },
          "metadata": {},
          "execution_count": 18
        }
      ]
    },
    {
      "cell_type": "code",
      "source": [
        "df_eda['size'].value_counts()"
      ],
      "metadata": {
        "colab": {
          "base_uri": "https://localhost:8080/"
        },
        "id": "6vN3Y8ij7bak",
        "outputId": "b2ca0edd-872d-47b1-b7ed-da9d6ab62f57"
      },
      "execution_count": null,
      "outputs": [
        {
          "output_type": "execute_result",
          "data": {
            "text/plain": [
              "M     1022\n",
              "L     1002\n",
              "XS    1001\n",
              "S      998\n",
              "XL     977\n",
              "Name: size, dtype: int64"
            ]
          },
          "metadata": {},
          "execution_count": 19
        }
      ]
    },
    {
      "cell_type": "markdown",
      "source": [
        "How many size in each product name?"
      ],
      "metadata": {
        "id": "2icp3nmY7udD"
      }
    },
    {
      "cell_type": "code",
      "source": [
        "df_prodname = df_eda.groupby(['product_name'])['size'].nunique().reset_index().sort_values(by='product_name', ascending=True)\n",
        "print(df_prodname)"
      ],
      "metadata": {
        "colab": {
          "base_uri": "https://localhost:8080/"
        },
        "id": "EEExsdaw7qOv",
        "outputId": "85bf4169-808a-438a-b872-f1f53382179d"
      },
      "execution_count": null,
      "outputs": [
        {
          "output_type": "stream",
          "name": "stdout",
          "text": [
            "         product_name  size\n",
            "0              Bomber     5\n",
            "1       Camp Collared     5\n",
            "2            Cardigan     5\n",
            "3         Cargo Pants     5\n",
            "4     Casual Slim Fit     5\n",
            "5            Chambray     5\n",
            "6              Chinos     5\n",
            "7               Coach     5\n",
            "8               Cords     5\n",
            "9             Cropped     5\n",
            "10       Cuban Collar     5\n",
            "11              Denim     5\n",
            "12         Drawstring     5\n",
            "13              Dress     5\n",
            "14            Flannel     5\n",
            "15             Henley     5\n",
            "16       High-Waisted     5\n",
            "17            Joggers     5\n",
            "18            Leather     5\n",
            "19              Linen     5\n",
            "20    Mandarin Collar     5\n",
            "21       Oxford Cloth     5\n",
            "22              Parka     5\n",
            "23            Peacoat     5\n",
            "24            Pleated     5\n",
            "25               Polo     5\n",
            "26             Puffer     5\n",
            "27           Pullover     5\n",
            "28        Relaxed Leg     5\n",
            "29          Shearling     5\n",
            "30           Slim-Fit     5\n",
            "31  Tracksuit Bottoms     5\n",
            "32        Trench Coat     5\n",
            "33        Windbreaker     5\n",
            "34               Wool     5\n"
          ]
        }
      ]
    },
    {
      "cell_type": "markdown",
      "source": [
        "# Colour"
      ],
      "metadata": {
        "id": "lj9vq-vS8dPI"
      }
    },
    {
      "cell_type": "markdown",
      "source": [
        "How many colour?"
      ],
      "metadata": {
        "id": "NGFZPfvp8mzx"
      }
    },
    {
      "cell_type": "code",
      "source": [
        "df_eda['colour'].nunique()"
      ],
      "metadata": {
        "colab": {
          "base_uri": "https://localhost:8080/"
        },
        "id": "WlQWATuq8lrM",
        "outputId": "d5d42d18-8798-48d6-82a9-a56facd38abf"
      },
      "execution_count": null,
      "outputs": [
        {
          "output_type": "execute_result",
          "data": {
            "text/plain": [
              "7"
            ]
          },
          "metadata": {},
          "execution_count": 21
        }
      ]
    },
    {
      "cell_type": "markdown",
      "source": [
        "What colours?"
      ],
      "metadata": {
        "id": "nt_-0Ly99WQ3"
      }
    },
    {
      "cell_type": "code",
      "source": [
        "df_eda['colour'].values"
      ],
      "metadata": {
        "colab": {
          "base_uri": "https://localhost:8080/"
        },
        "id": "KiUd0hVC9Vrl",
        "outputId": "8fa8e45d-2e30-4180-c43c-01e1640b68b8"
      },
      "execution_count": null,
      "outputs": [
        {
          "output_type": "execute_result",
          "data": {
            "text/plain": [
              "array(['orange', 'orange', 'orange', ..., 'red', 'indigo', 'green'],\n",
              "      dtype=object)"
            ]
          },
          "metadata": {},
          "execution_count": 22
        }
      ]
    },
    {
      "cell_type": "code",
      "source": [
        "df_eda['colour'].value_counts()"
      ],
      "metadata": {
        "colab": {
          "base_uri": "https://localhost:8080/"
        },
        "id": "gjSOAgvw9gRJ",
        "outputId": "24aa6608-e9a9-4c40-f04b-9b6105f93964"
      },
      "execution_count": null,
      "outputs": [
        {
          "output_type": "execute_result",
          "data": {
            "text/plain": [
              "blue      762\n",
              "violet    739\n",
              "indigo    726\n",
              "orange    697\n",
              "green     694\n",
              "red       692\n",
              "yellow    690\n",
              "Name: colour, dtype: int64"
            ]
          },
          "metadata": {},
          "execution_count": 23
        }
      ]
    },
    {
      "cell_type": "markdown",
      "source": [
        "How many colour in each product name?"
      ],
      "metadata": {
        "id": "wew_bK7n9rPG"
      }
    },
    {
      "cell_type": "code",
      "source": [
        "df_colourprod= df_eda.groupby(['product_name'])['colour'].nunique().reset_index().sort_values(by='product_name', ascending=True)\n",
        "print(df_colourprod)"
      ],
      "metadata": {
        "colab": {
          "base_uri": "https://localhost:8080/"
        },
        "id": "losyw2Eq9xaV",
        "outputId": "18562ca4-f8f4-4811-9f16-c1e89e056adc"
      },
      "execution_count": null,
      "outputs": [
        {
          "output_type": "stream",
          "name": "stdout",
          "text": [
            "         product_name  colour\n",
            "0              Bomber       7\n",
            "1       Camp Collared       7\n",
            "2            Cardigan       7\n",
            "3         Cargo Pants       7\n",
            "4     Casual Slim Fit       7\n",
            "5            Chambray       7\n",
            "6              Chinos       7\n",
            "7               Coach       7\n",
            "8               Cords       7\n",
            "9             Cropped       7\n",
            "10       Cuban Collar       7\n",
            "11              Denim       7\n",
            "12         Drawstring       7\n",
            "13              Dress       7\n",
            "14            Flannel       7\n",
            "15             Henley       7\n",
            "16       High-Waisted       7\n",
            "17            Joggers       7\n",
            "18            Leather       7\n",
            "19              Linen       7\n",
            "20    Mandarin Collar       7\n",
            "21       Oxford Cloth       7\n",
            "22              Parka       7\n",
            "23            Peacoat       7\n",
            "24            Pleated       7\n",
            "25               Polo       7\n",
            "26             Puffer       7\n",
            "27           Pullover       7\n",
            "28        Relaxed Leg       7\n",
            "29          Shearling       7\n",
            "30           Slim-Fit       7\n",
            "31  Tracksuit Bottoms       7\n",
            "32        Trench Coat       7\n",
            "33        Windbreaker       7\n",
            "34               Wool       7\n"
          ]
        }
      ]
    },
    {
      "cell_type": "markdown",
      "source": [
        "# Quantity Sales"
      ],
      "metadata": {
        "id": "vrHN0cSBBOy1"
      }
    },
    {
      "cell_type": "markdown",
      "source": [
        "How many products were sold in Jan - Des 2021?"
      ],
      "metadata": {
        "id": "PrYEw8xSBSmN"
      }
    },
    {
      "cell_type": "code",
      "source": [
        "df_eda['quantity_x'].sum()"
      ],
      "metadata": {
        "colab": {
          "base_uri": "https://localhost:8080/"
        },
        "id": "2eB4Eo93BR18",
        "outputId": "a52816f7-07e3-4488-8bdf-8e3f088c2ce0"
      },
      "execution_count": null,
      "outputs": [
        {
          "output_type": "execute_result",
          "data": {
            "text/plain": [
              "9962"
            ]
          },
          "metadata": {},
          "execution_count": 25
        }
      ]
    },
    {
      "cell_type": "markdown",
      "source": [
        "How many maximum selling?"
      ],
      "metadata": {
        "id": "3q98km4TDsPG"
      }
    },
    {
      "cell_type": "code",
      "source": [
        "df_eda['quantity_x'].max()"
      ],
      "metadata": {
        "colab": {
          "base_uri": "https://localhost:8080/"
        },
        "id": "zXEi4OLTDK7L",
        "outputId": "94d5e00f-7df8-40a3-dd8b-f5a612a7f751"
      },
      "execution_count": null,
      "outputs": [
        {
          "output_type": "execute_result",
          "data": {
            "text/plain": [
              "3"
            ]
          },
          "metadata": {},
          "execution_count": 26
        }
      ]
    },
    {
      "cell_type": "markdown",
      "source": [
        "What products name sell the most?"
      ],
      "metadata": {
        "id": "4y800SB5C0Py"
      }
    },
    {
      "cell_type": "code",
      "source": [
        "# Mengelompokkan berdasarkan 'product_name' dan menghitung jumlah penjualan\n",
        "total_quantity = df_eda.groupby('product_name')['quantity_x'].sum()\n",
        "\n",
        "# Menemukan nama produk dengan jumlah penjualan terbesar\n",
        "produk_terbesar = total_quantity.idxmax()\n",
        "\n",
        "produk_terbesar"
      ],
      "metadata": {
        "colab": {
          "base_uri": "https://localhost:8080/",
          "height": 35
        },
        "id": "NaalzrlPZIpY",
        "outputId": "6b06d4d6-63f5-460d-de5b-845ab8423375"
      },
      "execution_count": null,
      "outputs": [
        {
          "output_type": "execute_result",
          "data": {
            "text/plain": [
              "'Denim'"
            ],
            "application/vnd.google.colaboratory.intrinsic+json": {
              "type": "string"
            }
          },
          "metadata": {},
          "execution_count": 28
        }
      ]
    },
    {
      "cell_type": "markdown",
      "source": [
        "How many minimum selling?"
      ],
      "metadata": {
        "id": "k5KQ7I8EaEe1"
      }
    },
    {
      "cell_type": "code",
      "source": [
        "df_eda['quantity_x'].min()"
      ],
      "metadata": {
        "colab": {
          "base_uri": "https://localhost:8080/"
        },
        "id": "zqVvVuIbaahp",
        "outputId": "de9fd078-d2da-4d3b-a5db-92eae3e88509"
      },
      "execution_count": null,
      "outputs": [
        {
          "output_type": "execute_result",
          "data": {
            "text/plain": [
              "1"
            ]
          },
          "metadata": {},
          "execution_count": 29
        }
      ]
    },
    {
      "cell_type": "markdown",
      "source": [
        "What product name has the lowest sales?"
      ],
      "metadata": {
        "id": "N1TKHhpgcgTE"
      }
    },
    {
      "cell_type": "code",
      "source": [
        "# Mengelompokkan berdasarkan 'product_name' dan menghitung jumlah penjualan\n",
        "total_quantity = df_eda.groupby('product_name')['quantity_x'].sum()\n",
        "\n",
        "# Menemukan nama produk dengan jumlah penjualan terendah\n",
        "produk_terkecil = total_quantity.idxmin()\n",
        "\n",
        "produk_terkecil"
      ],
      "metadata": {
        "colab": {
          "base_uri": "https://localhost:8080/",
          "height": 35
        },
        "id": "8RT9ZDBZaeBO",
        "outputId": "480aa859-6ddc-48eb-8461-89bca1f44900"
      },
      "execution_count": null,
      "outputs": [
        {
          "output_type": "execute_result",
          "data": {
            "text/plain": [
              "'Mandarin Collar'"
            ],
            "application/vnd.google.colaboratory.intrinsic+json": {
              "type": "string"
            }
          },
          "metadata": {},
          "execution_count": 30
        }
      ]
    },
    {
      "cell_type": "markdown",
      "source": [
        "# Price Per Unit"
      ],
      "metadata": {
        "id": "Zhuc_0MCaxZ6"
      }
    },
    {
      "cell_type": "markdown",
      "source": [
        "What is average price per unit?"
      ],
      "metadata": {
        "id": "iipOSs5gbEkv"
      }
    },
    {
      "cell_type": "code",
      "source": [
        "df_eda['price_per_unit'].mean()"
      ],
      "metadata": {
        "colab": {
          "base_uri": "https://localhost:8080/"
        },
        "id": "o3hKvIFQavuD",
        "outputId": "e209b460-4b57-459c-9146-7355be472f11"
      },
      "execution_count": null,
      "outputs": [
        {
          "output_type": "execute_result",
          "data": {
            "text/plain": [
              "103.5016"
            ]
          },
          "metadata": {},
          "execution_count": 31
        }
      ]
    },
    {
      "cell_type": "markdown",
      "source": [
        "What is the maximum price?"
      ],
      "metadata": {
        "id": "9MHp6-2ubt8L"
      }
    },
    {
      "cell_type": "code",
      "source": [
        "df_eda['price_per_unit'].max()"
      ],
      "metadata": {
        "colab": {
          "base_uri": "https://localhost:8080/"
        },
        "id": "TZpAz11nby6b",
        "outputId": "15e90259-130a-463a-c25d-d01c2a291348"
      },
      "execution_count": null,
      "outputs": [
        {
          "output_type": "execute_result",
          "data": {
            "text/plain": [
              "119"
            ]
          },
          "metadata": {},
          "execution_count": 32
        }
      ]
    },
    {
      "cell_type": "markdown",
      "source": [
        "What is the minimum price?"
      ],
      "metadata": {
        "id": "HM1SK1_feSdl"
      }
    },
    {
      "cell_type": "code",
      "source": [
        "df_eda['price_per_unit'].min()"
      ],
      "metadata": {
        "colab": {
          "base_uri": "https://localhost:8080/"
        },
        "id": "Itk7ZWpceVDR",
        "outputId": "7113e73a-4a22-4240-da23-ae2c0abf4dc0"
      },
      "execution_count": null,
      "outputs": [
        {
          "output_type": "execute_result",
          "data": {
            "text/plain": [
              "90"
            ]
          },
          "metadata": {},
          "execution_count": 38
        }
      ]
    },
    {
      "cell_type": "markdown",
      "source": [
        "What product name has the highest price per unit?"
      ],
      "metadata": {
        "id": "AijUNgRIb5uE"
      }
    },
    {
      "cell_type": "code",
      "source": [
        "produk_paling_mahal = df_eda.loc[df_eda['price_per_unit'].idxmax(), 'product_name']\n",
        "harga_tertinggi = df_eda['price_per_unit'].max()\n",
        "\n",
        "produk_paling_mahal"
      ],
      "metadata": {
        "colab": {
          "base_uri": "https://localhost:8080/",
          "height": 35
        },
        "id": "vT02Wac6b3jo",
        "outputId": "be772f3a-e9db-4df5-c939-6715e7a4b5c8"
      },
      "execution_count": null,
      "outputs": [
        {
          "output_type": "execute_result",
          "data": {
            "text/plain": [
              "'Trench Coat'"
            ],
            "application/vnd.google.colaboratory.intrinsic+json": {
              "type": "string"
            }
          },
          "metadata": {},
          "execution_count": 36
        }
      ]
    },
    {
      "cell_type": "code",
      "source": [
        "produk_paling_mahal = df_eda.loc[df_eda['price_per_unit'].idxmax(), 'product_name']\n",
        "harga_tertinggi = df_eda['price_per_unit'].max()\n",
        "\n",
        "harga_tertinggi"
      ],
      "metadata": {
        "colab": {
          "base_uri": "https://localhost:8080/"
        },
        "id": "ujqoxN5VeHqu",
        "outputId": "4a2eafe1-cacf-41ae-b852-d7d8ffc305ef"
      },
      "execution_count": null,
      "outputs": [
        {
          "output_type": "execute_result",
          "data": {
            "text/plain": [
              "119"
            ]
          },
          "metadata": {},
          "execution_count": 37
        }
      ]
    },
    {
      "cell_type": "markdown",
      "source": [
        "What product name has the lowest price per unit?"
      ],
      "metadata": {
        "id": "W9hTDPz7ebfW"
      }
    },
    {
      "cell_type": "code",
      "source": [
        "produk_paling_murah = df_eda.loc[df_eda['price_per_unit'].idxmin(), 'product_name']\n",
        "harga_tertinggi = df_eda['price_per_unit'].min()\n",
        "\n",
        "produk_paling_murah"
      ],
      "metadata": {
        "colab": {
          "base_uri": "https://localhost:8080/",
          "height": 35
        },
        "id": "aFusrPMmeakH",
        "outputId": "6e2c2fb8-ce2d-4c3a-921f-3f292f1d9d68"
      },
      "execution_count": null,
      "outputs": [
        {
          "output_type": "execute_result",
          "data": {
            "text/plain": [
              "'Relaxed Leg'"
            ],
            "application/vnd.google.colaboratory.intrinsic+json": {
              "type": "string"
            }
          },
          "metadata": {},
          "execution_count": 39
        }
      ]
    },
    {
      "cell_type": "markdown",
      "source": [
        "# Total Price"
      ],
      "metadata": {
        "id": "-3DSOEgkfxwY"
      }
    },
    {
      "cell_type": "markdown",
      "source": [
        "Which product name generates most revenue?"
      ],
      "metadata": {
        "id": "yRw2C7B-f02I"
      }
    },
    {
      "cell_type": "code",
      "source": [
        "highest_revenue_product = df_eda.loc[df_eda['total_price'].idxmax(), 'product_name']\n",
        "total_revenue_highest = df_eda['total_price'].max()\n",
        "\n",
        "print(f'Product generating the most revenue: {highest_revenue_product}')\n",
        "print(f'Total revenue from the product: {total_revenue_highest}')"
      ],
      "metadata": {
        "colab": {
          "base_uri": "https://localhost:8080/"
        },
        "id": "Me9TTyVIgB8W",
        "outputId": "73770243-eaca-4ada-c33a-dc37ab6f1fea"
      },
      "execution_count": null,
      "outputs": [
        {
          "output_type": "stream",
          "name": "stdout",
          "text": [
            "Product generating the most revenue: Trench Coat\n",
            "Total revenue from the product: 357\n"
          ]
        }
      ]
    },
    {
      "cell_type": "markdown",
      "source": [
        "Which product type generates most revenue?"
      ],
      "metadata": {
        "id": "iOG07D8Fi_oF"
      }
    },
    {
      "cell_type": "code",
      "source": [
        "# Grouping by product type and summing the total prices\n",
        "revenue_by_product_type = df_eda.groupby('product_type')['total_price'].sum()\n",
        "\n",
        "# Finding the product type that generates the most revenue\n",
        "highest_revenue_product_type = revenue_by_product_type.idxmax()\n",
        "total_revenue_highest = revenue_by_product_type.max()\n",
        "\n",
        "print(f'Product type generating the most revenue: {highest_revenue_product_type}')\n",
        "print(f'Total revenue from the product type: {total_revenue_highest}')"
      ],
      "metadata": {
        "colab": {
          "base_uri": "https://localhost:8080/"
        },
        "id": "HtvGSuU_jRrj",
        "outputId": "3a287c4c-927e-4723-ca2d-a6058299f9c4"
      },
      "execution_count": null,
      "outputs": [
        {
          "output_type": "stream",
          "name": "stdout",
          "text": [
            "Product type generating the most revenue: Jacket\n",
            "Total revenue from the product type: 357026\n"
          ]
        }
      ]
    }
  ]
}